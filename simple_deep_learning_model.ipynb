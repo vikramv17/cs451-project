{
 "cells": [
  {
   "cell_type": "code",
   "execution_count": 10,
   "id": "753cc25a",
   "metadata": {},
   "outputs": [],
   "source": [
    "import pandas as pd\n",
    "from sklearn.model_selection import train_test_split\n",
    "from sklearn.linear_model import LinearRegression\n",
    "import matplotlib.pyplot as plt\n",
    "from sklearn.metrics import mean_absolute_error\n",
    "import mord as m\n",
    "import seaborn as sns\n",
    "import numpy as np\n",
    "import torch.nn as nn\n",
    "from torch.nn import Conv2d, MaxPool2d, Parameter\n",
    "from torch.nn.functional import relu\n",
    "import torch"
   ]
  },
  {
   "cell_type": "code",
   "execution_count": 30,
   "id": "1daa4d90",
   "metadata": {},
   "outputs": [],
   "source": [
    "df = pd.read_csv(\"clean_data/movies.csv\")\n",
    "\n",
    "columns = [\"popularity\", \"revenue\", \"budget\", \"runtime\", \"vote_average\"]\n",
    "df = df.fillna(0)\n",
    "df = df[columns]\n",
    "df[\"label\"] = df[\"vote_average\"].apply(lambda x: 1 if x >= 5 else 0)\n",
    "df.drop([\"vote_average\"], axis=1, inplace=True)\n",
    "\n",
    "def prep_data(df):\n",
    "    y = torch.tensor(df[\"label\"].values)\n",
    "    X = df.drop([\"label\"], axis = 1)\n",
    "    X = torch.tensor(X.values)\n",
    "\n",
    "    return X, y\n",
    "\n",
    "X, y = prep_data(df)\n",
    "\n",
    "X_train, X_test, y_train, y_test = train_test_split(X, y, test_size=0.2, random_state=42)"
   ]
  },
  {
   "cell_type": "code",
   "execution_count": 36,
   "id": "e3192d62",
   "metadata": {},
   "outputs": [],
   "source": [
    "class LinearModel(nn.Module):\n",
    "    def __init__(self, input_dim):\n",
    "        super().__init__()\n",
    "\n",
    "        self.pipeline = nn.Sequential(\n",
    "            nn.Flatten(),\n",
    "            nn.Linear(input_dim, 1),\n",
    "            nn.ReLU(),\n",
    "        )\n",
    "\n",
    "    # this is the customary name for the method that computes the scores\n",
    "    # the loss is usually computed outside the model class during the training loop\n",
    "    def forward(self, x):\n",
    "        return self.pipeline(x)\n",
    "\n",
    "# Get the number of features from X_train\n",
    "input_dim = X_train.shape[1]\n",
    "\n",
    "# Initialize the model with the correct input dimension\n",
    "model = LinearModel(input_dim)"
   ]
  },
  {
   "cell_type": "code",
   "execution_count": 41,
   "id": "1c52bb49",
   "metadata": {},
   "outputs": [
    {
     "name": "stdout",
     "output_type": "stream",
     "text": [
      "tensor([[0.],\n",
      "        [0.],\n",
      "        [0.],\n",
      "        ...,\n",
      "        [0.],\n",
      "        [0.],\n",
      "        [0.]], grad_fn=<ReluBackward0>)\n"
     ]
    }
   ],
   "source": [
    "scores = model(X_train.float())  # Ensure X_train is of type float\n",
    "print(scores)"
   ]
  },
  {
   "cell_type": "markdown",
   "id": "5ee3a982",
   "metadata": {},
   "source": [
    "I did some very basic setup for what will become a deep learning model to analyze the movie data. I started with a simple linear model so that I have some of the structure in place for the future. I also improved my data prep process to involve torch tensors."
   ]
  }
 ],
 "metadata": {
  "kernelspec": {
   "display_name": "ml-0451",
   "language": "python",
   "name": "python3"
  },
  "language_info": {
   "codemirror_mode": {
    "name": "ipython",
    "version": 3
   },
   "file_extension": ".py",
   "mimetype": "text/x-python",
   "name": "python",
   "nbconvert_exporter": "python",
   "pygments_lexer": "ipython3",
   "version": "3.9.21"
  }
 },
 "nbformat": 4,
 "nbformat_minor": 5
}
