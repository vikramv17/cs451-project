{
 "cells": [
  {
   "cell_type": "code",
   "execution_count": 2,
   "id": "d4da4c47",
   "metadata": {},
   "outputs": [],
   "source": [
    "#| include: false\n",
    "\n",
    "import pandas as pd\n",
    "import torch\n",
    "from torch import nn\n",
    "from torch.utils.data import Dataset, DataLoader\n",
    "from sklearn.preprocessing import LabelEncoder\n",
    "import numpy as np\n",
    "import time\n",
    "import plotly.express as px\n",
    "import plotly.io as pio\n",
    "pio.templates.default = \"plotly_white\"\n",
    "from sklearn.model_selection import train_test_split\n",
    "import warnings\n",
    "warnings.filterwarnings(\"ignore\", category = UserWarning)\n",
    "from transformers import BertTokenizer\n",
    "device = torch.device(\"cuda\" if torch.cuda.is_available() else \"cpu\")\n",
    "from sklearn.decomposition import PCA\n",
    "import matplotlib.pyplot as plt\n",
    "from sklearn.utils.class_weight import compute_class_weight\n",
    "import torch.nn.functional as F"
   ]
  },
  {
   "cell_type": "code",
   "execution_count": 3,
   "id": "cb6116b6",
   "metadata": {},
   "outputs": [],
   "source": [
    "target_col = \"revenue\"\n",
    "ids_col = \"final_ids\"\n",
    "adjustment = 0\n",
    "weight_bool = False"
   ]
  },
  {
   "cell_type": "code",
   "execution_count": 4,
   "id": "6fc016da",
   "metadata": {},
   "outputs": [
    {
     "data": {
      "text/html": [
       "<div>\n",
       "<style scoped>\n",
       "    .dataframe tbody tr th:only-of-type {\n",
       "        vertical-align: middle;\n",
       "    }\n",
       "\n",
       "    .dataframe tbody tr th {\n",
       "        vertical-align: top;\n",
       "    }\n",
       "\n",
       "    .dataframe thead th {\n",
       "        text-align: right;\n",
       "    }\n",
       "</style>\n",
       "<table border=\"1\" class=\"dataframe\">\n",
       "  <thead>\n",
       "    <tr style=\"text-align: right;\">\n",
       "      <th></th>\n",
       "      <th>movie_id</th>\n",
       "      <th>cast_ids</th>\n",
       "      <th>crew_ids</th>\n",
       "      <th>vote_average</th>\n",
       "      <th>vote_count</th>\n",
       "      <th>combined_ids</th>\n",
       "      <th>popularity</th>\n",
       "      <th>revenue</th>\n",
       "      <th>final_ids</th>\n",
       "      <th>label</th>\n",
       "    </tr>\n",
       "  </thead>\n",
       "  <tbody>\n",
       "    <tr>\n",
       "      <th>0</th>\n",
       "      <td>862</td>\n",
       "      <td>[31, 12898, 7167, 12899, 12900, 7907, 8873, 11...</td>\n",
       "      <td>[0, 0, 0, 0, 0, 0, 7883, 7961, 1458006, 174870...</td>\n",
       "      <td>7.7</td>\n",
       "      <td>5415.0</td>\n",
       "      <td>[16, 35, 10751, 0, 0, 0, 0, 0, 3, 0, 0, 0, 0, ...</td>\n",
       "      <td>21.946943</td>\n",
       "      <td>373554033.0</td>\n",
       "      <td>[31, 12898, 7167, 12899, 12900, 7907, 8873, 11...</td>\n",
       "      <td>4</td>\n",
       "    </tr>\n",
       "    <tr>\n",
       "      <th>1</th>\n",
       "      <td>8844</td>\n",
       "      <td>[2157, 8537, 205, 145151, 5149, 10739, 58563, ...</td>\n",
       "      <td>[0, 0, 0, 0, 0, 0, 9967, 0, 0, 0, 0, 0, 0, 0, ...</td>\n",
       "      <td>6.9</td>\n",
       "      <td>2413.0</td>\n",
       "      <td>[12, 14, 10751, 0, 0, 0, 0, 0, 559, 2550, 1020...</td>\n",
       "      <td>17.015539</td>\n",
       "      <td>262797249.0</td>\n",
       "      <td>[2157, 8537, 205, 145151, 5149, 10739, 58563, ...</td>\n",
       "      <td>4</td>\n",
       "    </tr>\n",
       "    <tr>\n",
       "      <th>3</th>\n",
       "      <td>31357</td>\n",
       "      <td>[8851, 9780, 18284, 51359, 66804, 352, 87118, ...</td>\n",
       "      <td>[0, 0, 0, 0, 0, 0, 0, 0, 0, 0, 0, 0, 0, 0, 0, ...</td>\n",
       "      <td>6.1</td>\n",
       "      <td>34.0</td>\n",
       "      <td>[35, 18, 10749, 0, 0, 0, 0, 0, 306, 0, 0, 0, 0...</td>\n",
       "      <td>3.859495</td>\n",
       "      <td>81452156.0</td>\n",
       "      <td>[8851, 9780, 18284, 51359, 66804, 352, 87118, ...</td>\n",
       "      <td>3</td>\n",
       "    </tr>\n",
       "    <tr>\n",
       "      <th>4</th>\n",
       "      <td>11862</td>\n",
       "      <td>[67773, 3092, 519, 70696, 59222, 18793, 14592,...</td>\n",
       "      <td>[0, 0, 0, 0, 0, 0, 0, 0, 0, 0, 0, 0, 0, 0, 0, ...</td>\n",
       "      <td>5.7</td>\n",
       "      <td>173.0</td>\n",
       "      <td>[35, 0, 0, 0, 0, 0, 0, 0, 5842, 9195, 0, 0, 0,...</td>\n",
       "      <td>8.387519</td>\n",
       "      <td>76578911.0</td>\n",
       "      <td>[67773, 3092, 519, 70696, 59222, 18793, 14592,...</td>\n",
       "      <td>3</td>\n",
       "    </tr>\n",
       "    <tr>\n",
       "      <th>5</th>\n",
       "      <td>949</td>\n",
       "      <td>[1158, 380, 5576, 10127, 3197, 6200, 15851, 15...</td>\n",
       "      <td>[0, 0, 0, 0, 0, 0, 11411, 15843, 13677, 147927...</td>\n",
       "      <td>7.7</td>\n",
       "      <td>1886.0</td>\n",
       "      <td>[28, 80, 18, 53, 0, 0, 0, 0, 508, 675, 6194, 0...</td>\n",
       "      <td>17.924927</td>\n",
       "      <td>187436818.0</td>\n",
       "      <td>[1158, 380, 5576, 10127, 3197, 6200, 15851, 15...</td>\n",
       "      <td>4</td>\n",
       "    </tr>\n",
       "  </tbody>\n",
       "</table>\n",
       "</div>"
      ],
      "text/plain": [
       "   movie_id                                           cast_ids  \\\n",
       "0       862  [31, 12898, 7167, 12899, 12900, 7907, 8873, 11...   \n",
       "1      8844  [2157, 8537, 205, 145151, 5149, 10739, 58563, ...   \n",
       "3     31357  [8851, 9780, 18284, 51359, 66804, 352, 87118, ...   \n",
       "4     11862  [67773, 3092, 519, 70696, 59222, 18793, 14592,...   \n",
       "5       949  [1158, 380, 5576, 10127, 3197, 6200, 15851, 15...   \n",
       "\n",
       "                                            crew_ids  vote_average  \\\n",
       "0  [0, 0, 0, 0, 0, 0, 7883, 7961, 1458006, 174870...           7.7   \n",
       "1  [0, 0, 0, 0, 0, 0, 9967, 0, 0, 0, 0, 0, 0, 0, ...           6.9   \n",
       "3  [0, 0, 0, 0, 0, 0, 0, 0, 0, 0, 0, 0, 0, 0, 0, ...           6.1   \n",
       "4  [0, 0, 0, 0, 0, 0, 0, 0, 0, 0, 0, 0, 0, 0, 0, ...           5.7   \n",
       "5  [0, 0, 0, 0, 0, 0, 11411, 15843, 13677, 147927...           7.7   \n",
       "\n",
       "   vote_count                                       combined_ids  popularity  \\\n",
       "0      5415.0  [16, 35, 10751, 0, 0, 0, 0, 0, 3, 0, 0, 0, 0, ...   21.946943   \n",
       "1      2413.0  [12, 14, 10751, 0, 0, 0, 0, 0, 559, 2550, 1020...   17.015539   \n",
       "3        34.0  [35, 18, 10749, 0, 0, 0, 0, 0, 306, 0, 0, 0, 0...    3.859495   \n",
       "4       173.0  [35, 0, 0, 0, 0, 0, 0, 0, 5842, 9195, 0, 0, 0,...    8.387519   \n",
       "5      1886.0  [28, 80, 18, 53, 0, 0, 0, 0, 508, 675, 6194, 0...   17.924927   \n",
       "\n",
       "       revenue                                          final_ids  label  \n",
       "0  373554033.0  [31, 12898, 7167, 12899, 12900, 7907, 8873, 11...      4  \n",
       "1  262797249.0  [2157, 8537, 205, 145151, 5149, 10739, 58563, ...      4  \n",
       "3   81452156.0  [8851, 9780, 18284, 51359, 66804, 352, 87118, ...      3  \n",
       "4   76578911.0  [67773, 3092, 519, 70696, 59222, 18793, 14592,...      3  \n",
       "5  187436818.0  [1158, 380, 5576, 10127, 3197, 6200, 15851, 15...      4  "
      ]
     },
     "metadata": {},
     "output_type": "display_data"
    }
   ],
   "source": [
    "df = pd.read_csv(\"clean_data/embeddings.csv\")\n",
    "# drop columns with 0 revenue\n",
    "\n",
    "if target_col == \"revenue\":\n",
    "    # drop columns with 0 revenue\n",
    "    df = df[df[\"revenue\"] > 0]\n",
    "    # make label as bins of revenue\n",
    "    df[\"label\"] = pd.qcut(df[\"revenue\"], q=5, labels=False, duplicates='drop')\n",
    "    adjustment = 0\n",
    "    weight_bool = False\n",
    "elif target_col == \"vote_average\":\n",
    "    # drop columns with less than 100 votes\n",
    "    df = df[df[\"vote_count\"] > 100]\n",
    "    df[\"label\"] = df[\"vote_average\"].apply(np.floor).astype(int)\n",
    "    # df[\"label\"] = df[\"vote_average\"].apply(lambda x: x / 0.5).astype(int)\n",
    "    adjustment = 2\n",
    "    weight_bool = True\n",
    "elif target_col == \"popularity\":\n",
    "    df[\"label\"] = pd.qcut(df[\"popularity\"], q=5, labels=False, duplicates='drop')\n",
    "    adjustment = 0\n",
    "    weight_bool = False\n",
    "\n",
    "display(df.head())\n"
   ]
  },
  {
   "cell_type": "code",
   "execution_count": 5,
   "id": "6d14c487",
   "metadata": {},
   "outputs": [
    {
     "name": "stdout",
     "output_type": "stream",
     "text": [
      "label\n",
      "4    1486\n",
      "2    1486\n",
      "0    1486\n",
      "3    1485\n",
      "1    1485\n",
      "Name: count, dtype: int64\n",
      "7428\n"
     ]
    }
   ],
   "source": [
    "label_counts = df[\"label\"].value_counts()\n",
    "print(label_counts)\n",
    "print(len(df))"
   ]
  },
  {
   "cell_type": "code",
   "execution_count": 6,
   "id": "7816c712",
   "metadata": {},
   "outputs": [
    {
     "name": "stdout",
     "output_type": "stream",
     "text": [
      "Baseline accuracy: 0.20\n"
     ]
    }
   ],
   "source": [
    "# calculate the baseline accuracy\n",
    "baseline_accuracy = df[\"label\"].value_counts(normalize=True).max()\n",
    "print(f\"Baseline accuracy: {baseline_accuracy:.2f}\")"
   ]
  },
  {
   "cell_type": "code",
   "execution_count": 7,
   "id": "6569be27",
   "metadata": {},
   "outputs": [],
   "source": [
    "train_df, test_df = train_test_split(df, test_size=0.4, random_state=42)\n",
    "test_df, val_df = train_test_split(test_df, test_size=0.5, random_state=42)\n",
    "\n",
    "def preprocess(df, x_col=ids_col):\n",
    "    X = df[x_col]\n",
    "    # convert string representation of list to actual list\n",
    "    X = [eval(ids) for ids in X]\n",
    "    y = list(df[\"label\"])\n",
    "    # subtract adjustment from y to make it zero-indexed\n",
    "    y = [label - adjustment for label in y]\n",
    "    return X, y\n",
    "\n",
    "class ToDF(Dataset):\n",
    "    def __init__(self, df):\n",
    "        self.X, self.y = preprocess(df)\n",
    "\n",
    "    def __getitem__(self, ix):\n",
    "        return self.X[ix], self.y[ix]\n",
    "\n",
    "    def __len__(self):\n",
    "        return len(self.y)\n",
    "    \n",
    "train = ToDF(train_df)\n",
    "val = ToDF(val_df)\n",
    "test = ToDF(test_df)\n",
    "\n",
    "def collate(data):\n",
    "    X = torch.tensor([d[0] for d in data])\n",
    "    y = torch.tensor([d[1] for d in data])\n",
    "    return X, y \n",
    "\n",
    "train_loader = DataLoader(train, batch_size=32, shuffle=True, collate_fn=collate)\n",
    "val_loader = DataLoader(val, batch_size=32, shuffle=False, collate_fn=collate)\n",
    "test_loader = DataLoader(test, batch_size=32, shuffle=False, collate_fn=collate)"
   ]
  },
  {
   "cell_type": "code",
   "execution_count": 8,
   "id": "fb9d1438",
   "metadata": {},
   "outputs": [
    {
     "name": "stdout",
     "output_type": "stream",
     "text": [
      "Vocab size: 1908262\n",
      "Max length: 1018\n"
     ]
    }
   ],
   "source": [
    "vocab_size = max([item for sublist in df[ids_col].apply(eval).tolist() for item in sublist])\n",
    "max_len = max([len(item) for item in df[ids_col].apply(eval).tolist()])\n",
    "print(f\"Vocab size: {vocab_size}\")\n",
    "print(f\"Max length: {max_len}\")"
   ]
  },
  {
   "cell_type": "code",
   "execution_count": 9,
   "id": "0126d662",
   "metadata": {},
   "outputs": [],
   "source": [
    "y_train = train_df[\"label\"].values - adjustment\n",
    "classes = np.arange(0, max(y_train) + 1)\n",
    "num_class = len(classes)\n",
    "weights = compute_class_weight(class_weight='balanced', classes=classes, y=y_train)\n",
    "weights = torch.tensor(weights, dtype=torch.float)"
   ]
  },
  {
   "cell_type": "code",
   "execution_count": 10,
   "id": "05ce8281",
   "metadata": {},
   "outputs": [],
   "source": [
    "class AttentionPooling(nn.Module):\n",
    "    def __init__(self, embedding_dim):\n",
    "        super().__init__()\n",
    "        self.attention = nn.Linear(embedding_dim, 1)\n",
    "\n",
    "    def forward(self, x):\n",
    "        weights = F.softmax(self.attention(x), dim=1)\n",
    "        weighted = x * weights\n",
    "        return weighted.sum(dim=1)\n",
    "\n",
    "class Model(nn.Module):\n",
    "\n",
    "    def __init__(self, vocab_size, embedding_dim, max_len, num_class):\n",
    "        super().__init__()\n",
    "        self.embedding = nn.Embedding(vocab_size+1, embedding_dim)\n",
    "        self.position_embedding = nn.Embedding(max_len, embedding_dim)\n",
    "        self.attn_pool = AttentionPooling(embedding_dim)\n",
    "        self.fc1 = nn.Linear(embedding_dim, 128)\n",
    "        self.fc2 = nn.Linear(128, 32)\n",
    "        self.fc3 = nn.Linear(32, num_class)\n",
    "\n",
    "        self.dropout = nn.Dropout(0.3)\n",
    "        self.norm1 = nn.LayerNorm(128)\n",
    "        self.norm2 = nn.LayerNorm(32)\n",
    "\n",
    "    def forward(self, X):\n",
    "        positions = torch.arange(X.size(1)).unsqueeze(0).expand_as(X)\n",
    "        x = self.embedding(X) + self.position_embedding(positions)\n",
    "        x = self.attn_pool(x)\n",
    "        x = self.dropout(F.relu(self.norm1(self.fc1(x))))\n",
    "        x = self.dropout(F.relu(self.norm2(self.fc2(x))))\n",
    "        x = self.fc3(x)\n",
    "        return x\n",
    "\n",
    "embedding_dim = 25"
   ]
  },
  {
   "cell_type": "code",
   "execution_count": 12,
   "id": "f342d5d0",
   "metadata": {},
   "outputs": [
    {
     "name": "stdout",
     "output_type": "stream",
     "text": [
      "| epoch   1 | train accuracy    0.214 | val accuracy    0.224 | time: 12.84s\n",
      "| epoch   2 | train accuracy    0.304 | val accuracy    0.312 | time: 13.21s\n",
      "| epoch   3 | train accuracy    0.353 | val accuracy    0.328 | time: 14.07s\n",
      "| epoch   4 | train accuracy    0.387 | val accuracy    0.353 | time: 14.07s\n",
      "| epoch   5 | train accuracy    0.428 | val accuracy    0.368 | time: 13.09s\n",
      "| epoch   6 | train accuracy    0.485 | val accuracy    0.375 | time: 12.91s\n",
      "| epoch   7 | train accuracy    0.559 | val accuracy    0.371 | time: 12.32s\n",
      "| epoch   8 | train accuracy    0.619 | val accuracy    0.376 | time: 12.75s\n",
      "| epoch   9 | train accuracy    0.683 | val accuracy    0.373 | time: 14.40s\n",
      "| epoch  10 | train accuracy    0.741 | val accuracy    0.357 | time: 12.46s\n",
      "| epoch  11 | train accuracy    0.785 | val accuracy    0.378 | time: 13.13s\n",
      "| epoch  12 | train accuracy    0.837 | val accuracy    0.381 | time: 13.13s\n",
      "| epoch  13 | train accuracy    0.875 | val accuracy    0.381 | time: 13.32s\n",
      "| epoch  14 | train accuracy    0.899 | val accuracy    0.386 | time: 12.35s\n",
      "| epoch  15 | train accuracy    0.919 | val accuracy    0.349 | time: 13.45s\n",
      "| epoch  16 | train accuracy    0.938 | val accuracy    0.368 | time: 13.03s\n",
      "| epoch  17 | train accuracy    0.952 | val accuracy    0.365 | time: 13.44s\n",
      "| epoch  18 | train accuracy    0.961 | val accuracy    0.363 | time: 12.58s\n",
      "| epoch  19 | train accuracy    0.965 | val accuracy    0.370 | time: 13.13s\n",
      "| epoch  20 | train accuracy    0.968 | val accuracy    0.370 | time: 12.79s\n",
      "test accuracy: 0.366\n",
      "[2, 2, 4, 2, 0, 4, 4, 1, 0, 3, 3, 2, 3, 3, 2, 3, 4, 0, 1, 2, 4, 3, 4, 4, 2, 0, 0, 1, 0, 2, 4, 1, 0, 4, 1, 0, 3, 3, 1, 2, 1, 3, 1, 0, 0, 3, 4, 3, 0, 3, 0, 3, 2, 2, 2, 2, 2, 4, 1, 3, 1, 4, 1, 1, 1, 1, 0, 0, 2, 3, 0, 4, 2, 2, 4, 0, 0, 1, 2, 0, 4, 1, 1, 3, 4, 3, 2, 4, 1, 3, 3, 4, 2, 2, 4, 2, 4, 4, 1, 1, 3, 0, 2, 4, 1, 3, 3, 3, 3, 3, 1, 4, 0, 1, 1, 1, 3, 3, 4, 1, 4, 0, 3, 2, 1, 2, 0, 1, 1, 2, 0, 2, 4, 2, 1, 0, 0, 1, 0, 2, 3, 2, 1, 0, 3, 1, 2, 4, 0, 4, 4, 3, 0, 0, 1, 2, 4, 3, 4, 2, 0, 1, 1, 3, 4, 1, 3, 1, 0, 1, 1, 4, 2, 4, 1, 2, 2, 1, 3, 1, 3, 1, 0, 1, 4, 1, 0, 2, 2, 2, 2, 4, 3, 4, 3, 1, 1, 4, 4, 3, 3, 0, 1, 3, 3, 4, 4, 2, 1, 3, 2, 3, 0, 4, 2, 1, 3, 2, 3, 4, 3, 4, 2, 2, 2, 2, 4, 2, 1, 4, 0, 4, 3, 1, 4, 0, 1, 0, 2, 0, 2, 0, 0, 2, 3, 4, 4, 2, 3, 4, 1, 1, 1, 2, 0, 1, 3, 0, 4, 1, 2, 1, 4, 1, 3, 1, 3, 2, 0, 1, 3, 0, 4, 4, 2, 0, 3, 1, 3, 1, 3, 4, 4, 4, 2, 0, 2, 2, 0, 0, 2, 2, 0, 2, 2, 1, 2, 2, 2, 3, 4, 2, 4, 1, 2, 4, 2, 4, 3, 1, 4, 0, 0, 4, 2, 0, 1, 0, 3, 1, 1, 3, 4, 4, 2, 4, 3, 1, 4, 0, 0, 4, 1, 1, 4, 2, 4, 4, 0, 3, 1, 4, 4, 3, 2, 4, 4, 1, 0, 1, 0, 4, 2, 4, 1, 3, 4, 1, 3, 4, 4, 2, 4, 4, 4, 2, 2, 4, 2, 1, 3, 2, 2, 3, 1, 1, 2, 1, 3, 3, 0, 4, 2, 4, 1, 4, 0, 0, 0, 3, 0, 4, 4, 1, 3, 2, 4, 0, 1, 1, 1, 3, 4, 3, 2, 2, 2, 2, 2, 4, 1, 4, 2, 4, 3, 4, 4, 1, 4, 0, 2, 0, 0, 2, 4, 2, 3, 4, 0, 3, 3, 4, 4, 1, 2, 2, 4, 2, 4, 1, 4, 2, 1, 3, 2, 4, 2, 2, 2, 1, 1, 4, 3, 4, 3, 3, 0, 4, 4, 2, 0, 2, 2, 1, 4, 1, 3, 2, 4, 3, 4, 2, 1, 2, 1, 3, 3, 2, 2, 2, 1, 4, 1, 2, 2, 2, 3, 1, 4, 2, 3, 3, 2, 4, 4, 4, 1, 1, 4, 1, 3, 1, 4, 1, 4, 0, 2, 3, 3, 1, 3, 3, 4, 1, 1, 3, 3, 2, 2, 4, 2, 0, 3, 1, 3, 0, 4, 2, 3, 3, 2, 2, 4, 3, 4, 4, 4, 1, 3, 2, 4, 3, 4, 4, 4, 3, 1, 2, 2, 2, 1, 1, 2, 3, 2, 4, 2, 4, 1, 3, 3, 3, 0, 2, 1, 1, 0, 3, 2, 0, 3, 0, 1, 2, 3, 3, 0, 3, 4, 4, 4, 2, 1, 3, 2, 0, 0, 3, 3, 2, 4, 4, 4, 4, 0, 3, 0, 1, 0, 4, 3, 4, 4, 3, 2, 1, 2, 0, 4, 1, 1, 1, 0, 2, 3, 0, 0, 2, 4, 1, 4, 3, 2, 0, 1, 1, 2, 1, 3, 2, 0, 3, 2, 2, 4, 0, 3, 3, 0, 2, 0, 2, 3, 2, 4, 3, 0, 2, 1, 1, 2, 4, 1, 0, 1, 2, 0, 4, 4, 1, 2, 0, 1, 0, 3, 3, 2, 4, 1, 3, 1, 0, 2, 4, 4, 4, 1, 3, 2, 0, 1, 2, 0, 2, 1, 4, 4, 1, 3, 1, 0, 4, 4, 1, 2, 4, 4, 2, 3, 2, 3, 3, 2, 2, 0, 2, 1, 2, 4, 1, 3, 4, 3, 0, 2, 3, 3, 4, 4, 2, 1, 2, 1, 3, 2, 4, 1, 3, 3, 2, 2, 2, 3, 3, 1, 4, 1, 4, 3, 2, 2, 4, 3, 3, 3, 1, 2, 3, 4, 4, 0, 1, 3, 3, 2, 3, 1, 4, 1, 0, 2, 2, 1, 3, 2, 4, 4, 4, 4, 1, 4, 3, 4, 1, 3, 4, 2, 2, 2, 1, 4, 0, 0, 1, 1, 3, 0, 4, 2, 3, 3, 1, 2, 1, 2, 0, 1, 4, 3, 3, 0, 3, 4, 4, 4, 4, 0, 3, 4, 3, 0, 1, 4, 0, 2, 2, 4, 1, 4, 3, 1, 2, 1, 2, 2, 3, 2, 3, 2, 1, 4, 1, 3, 1, 3, 1, 0, 2, 3, 3, 0, 0, 4, 0, 4, 0, 3, 3, 2, 3, 3, 1, 4, 3, 4, 4, 0, 1, 2, 1, 4, 3, 2, 4, 4, 2, 4, 4, 1, 2, 4, 1, 4, 3, 3, 1, 4, 2, 1, 2, 2, 4, 0, 4, 4, 4, 1, 2, 0, 0, 4, 4, 1, 4, 0, 4, 1, 0, 4, 2, 4, 3, 1, 3, 3, 2, 2, 2, 2, 1, 0, 3, 3, 2, 2, 3, 4, 0, 3, 3, 2, 2, 4, 4, 0, 2, 4, 1, 2, 2, 3, 1, 4, 0, 1, 1, 4, 4, 3, 1, 2, 4, 1, 2, 4, 4, 0, 0, 3, 2, 1, 4, 2, 1, 4, 0, 3, 3, 2, 2, 1, 1, 4, 3, 0, 0, 0, 2, 1, 3, 3, 3, 4, 0, 1, 2, 2, 4, 1, 1, 3, 0, 2, 0, 4, 4, 2, 0, 2, 1, 4, 1, 2, 1, 2, 1, 4, 0, 1, 4, 1, 4, 1, 0, 3, 1, 1, 2, 3, 2, 4, 0, 1, 2, 4, 1, 4, 1, 2, 1, 2, 4, 2, 4, 4, 0, 0, 3, 2, 1, 2, 2, 1, 0, 0, 0, 1, 1, 2, 3, 1, 0, 1, 3, 2, 1, 2, 2, 1, 1, 3, 4, 3, 4, 1, 1, 3, 0, 2, 3, 4, 3, 0, 3, 0, 1, 2, 2, 1, 2, 4, 2, 0, 3, 0, 0, 3, 4, 4, 4, 3, 3, 2, 4, 1, 1, 4, 2, 3, 3, 2, 0, 2, 0, 3, 2, 3, 2, 1, 2, 1, 4, 3, 1, 4, 4, 4, 2, 1, 0, 1, 4, 1, 1, 3, 0, 2, 3, 0, 4, 2, 2, 2, 1, 0, 1, 3, 3, 2, 3, 4, 2, 4, 3, 1, 2, 3, 2, 4, 4, 1, 2, 1, 2, 4, 3, 3, 0, 3, 4, 3, 3, 1, 1, 3, 4, 2, 3, 2, 4, 1, 4, 4, 3, 3, 3, 2, 2, 2, 4, 1, 4, 2, 1, 1, 1, 2, 4, 0, 2, 4, 2, 4, 3, 0, 0, 3, 3, 1, 0, 4, 0, 2, 4, 1, 1, 0, 2, 4, 3, 3, 1, 3, 4, 3, 1, 4, 3, 0, 1, 1, 2, 3, 0, 1, 1, 0, 2, 4, 1, 2, 0, 4, 3, 3, 2, 4, 1, 0, 0, 2, 1, 1, 0, 3, 4, 2, 3, 1, 4, 1, 1, 2, 3, 1, 2, 4, 3, 0, 3, 0, 4, 2, 4, 2, 4, 2, 0, 2, 2, 3, 4, 1, 3, 3, 4, 0, 1, 3, 1, 4, 4, 0, 0, 1, 0, 2, 4, 2, 4, 3, 1, 3, 4, 4, 2, 0, 2, 4, 3, 4, 2, 2, 3, 4, 0, 4, 2, 2, 0, 2, 3, 1, 0, 1, 3, 2, 2, 2, 3, 4, 3, 0, 3, 0, 2, 0, 3, 4, 3, 4, 3, 4, 4, 2, 3, 4, 4, 3, 4, 2, 2, 1, 3, 4, 1, 0, 4, 4, 1, 2, 4, 1, 0, 3, 1, 4, 2, 1, 1, 0, 4, 2, 1, 1, 4, 3, 1, 0, 4, 1, 2, 2, 3, 1, 1, 4, 2, 2, 2, 2, 1, 1, 4, 2, 3, 4, 2, 4, 4, 4, 3, 0, 0, 1, 0, 4, 1, 0, 1, 2, 1, 0, 1, 4, 1, 3, 4, 0, 2, 2, 2, 3, 0, 2, 3, 2, 2, 1, 0, 1, 4, 3, 0, 1, 3, 4, 4, 4, 4, 1, 4, 0, 3, 2, 4, 2, 3, 3, 4, 3, 4, 2, 2, 0, 2, 3, 1, 2, 1, 2, 1, 4, 0, 1, 1, 0, 4, 2, 1, 3, 1, 0, 4, 3, 4, 2, 3, 0, 3, 3, 1, 4, 3, 1, 2, 4, 4, 1, 4, 4, 3, 1, 3, 0, 4, 4, 1, 2, 2, 3, 0, 4, 3, 0, 1]\n",
      "[0, 0, 0, 4, 2, 3, 4, 3, 0, 4, 2, 1, 2, 2, 3, 2, 1, 2, 1, 2, 3, 3, 4, 4, 1, 3, 0, 1, 3, 0, 4, 2, 3, 4, 2, 0, 3, 4, 2, 1, 0, 1, 1, 3, 3, 4, 2, 1, 1, 3, 2, 2, 1, 0, 4, 4, 0, 2, 0, 3, 3, 3, 1, 2, 1, 3, 2, 2, 1, 0, 1, 4, 2, 4, 2, 0, 0, 3, 4, 0, 0, 2, 0, 4, 2, 3, 1, 4, 1, 0, 3, 4, 2, 3, 4, 3, 1, 4, 1, 2, 1, 1, 1, 3, 2, 2, 1, 2, 4, 3, 0, 1, 0, 0, 4, 1, 1, 1, 3, 2, 2, 1, 1, 1, 0, 1, 1, 2, 2, 0, 0, 2, 3, 4, 1, 0, 1, 1, 1, 2, 2, 2, 3, 1, 0, 0, 0, 4, 0, 2, 4, 0, 1, 0, 0, 3, 2, 0, 3, 4, 0, 2, 3, 4, 4, 0, 3, 2, 1, 2, 2, 4, 1, 3, 2, 0, 2, 1, 2, 0, 2, 2, 0, 2, 4, 3, 0, 1, 2, 3, 1, 4, 0, 4, 4, 0, 0, 4, 4, 3, 3, 2, 2, 2, 3, 4, 4, 4, 0, 4, 0, 3, 4, 4, 3, 4, 3, 3, 2, 3, 2, 4, 2, 0, 3, 2, 4, 3, 2, 3, 1, 4, 3, 2, 2, 0, 2, 2, 4, 0, 3, 2, 0, 2, 4, 3, 4, 2, 2, 4, 0, 2, 3, 1, 0, 1, 4, 0, 4, 0, 1, 0, 2, 0, 0, 2, 2, 2, 0, 1, 4, 1, 2, 4, 3, 0, 2, 3, 4, 4, 2, 4, 4, 4, 3, 0, 1, 1, 2, 0, 2, 2, 1, 2, 4, 4, 1, 3, 4, 3, 4, 0, 4, 2, 0, 4, 4, 4, 3, 0, 4, 1, 1, 2, 1, 0, 1, 2, 3, 0, 0, 3, 4, 2, 2, 4, 4, 0, 0, 1, 0, 4, 1, 3, 4, 1, 4, 2, 2, 4, 0, 4, 4, 2, 4, 3, 3, 1, 4, 0, 0, 1, 2, 4, 3, 0, 4, 1, 3, 4, 0, 1, 4, 4, 4, 3, 2, 3, 1, 3, 4, 3, 1, 2, 1, 0, 0, 3, 3, 3, 0, 3, 2, 4, 0, 3, 1, 1, 0, 1, 1, 2, 1, 0, 4, 3, 4, 1, 2, 4, 1, 0, 4, 3, 1, 3, 3, 3, 0, 4, 0, 3, 0, 4, 3, 3, 4, 1, 4, 0, 2, 0, 0, 2, 4, 3, 2, 3, 1, 4, 4, 3, 4, 2, 4, 2, 4, 1, 4, 0, 4, 2, 0, 0, 0, 0, 2, 3, 0, 2, 1, 4, 4, 3, 2, 2, 0, 0, 3, 1, 2, 4, 2, 0, 3, 0, 2, 4, 0, 4, 3, 1, 2, 2, 1, 1, 3, 3, 2, 3, 1, 3, 2, 3, 1, 4, 4, 2, 3, 1, 3, 4, 0, 2, 4, 3, 3, 4, 4, 0, 3, 1, 3, 2, 4, 0, 1, 3, 4, 2, 0, 4, 4, 0, 1, 2, 0, 1, 3, 3, 1, 0, 3, 3, 2, 0, 4, 3, 2, 4, 0, 2, 3, 3, 4, 3, 1, 1, 3, 1, 4, 1, 4, 4, 1, 3, 1, 3, 0, 3, 1, 0, 2, 0, 0, 3, 4, 1, 0, 3, 1, 3, 1, 4, 2, 1, 3, 4, 3, 1, 2, 1, 0, 4, 2, 4, 0, 2, 2, 2, 2, 2, 0, 2, 0, 3, 0, 3, 0, 3, 4, 4, 3, 4, 0, 2, 0, 3, 1, 4, 0, 4, 4, 0, 3, 1, 1, 0, 4, 1, 0, 2, 0, 0, 3, 0, 2, 2, 4, 1, 4, 4, 0, 0, 0, 1, 4, 3, 2, 3, 1, 2, 1, 1, 4, 0, 4, 0, 0, 1, 1, 1, 4, 2, 4, 3, 0, 2, 0, 0, 2, 4, 1, 0, 2, 2, 1, 2, 1, 1, 1, 0, 2, 0, 3, 3, 0, 4, 0, 0, 1, 0, 1, 4, 2, 4, 3, 4, 2, 1, 1, 3, 0, 4, 3, 0, 1, 1, 2, 1, 3, 2, 4, 0, 3, 4, 1, 3, 4, 3, 2, 3, 1, 2, 0, 2, 0, 3, 2, 1, 3, 4, 4, 0, 4, 2, 4, 4, 3, 3, 2, 1, 0, 1, 2, 3, 2, 3, 1, 2, 2, 1, 2, 1, 2, 4, 1, 4, 0, 1, 4, 1, 2, 4, 3, 4, 3, 3, 3, 3, 0, 2, 1, 4, 3, 2, 1, 3, 0, 3, 1, 1, 2, 2, 1, 2, 3, 4, 4, 1, 2, 1, 1, 3, 1, 2, 0, 2, 2, 0, 1, 2, 1, 1, 0, 1, 2, 3, 3, 1, 3, 2, 4, 0, 1, 2, 1, 4, 1, 4, 1, 3, 3, 3, 4, 4, 0, 4, 3, 2, 0, 0, 4, 1, 0, 1, 2, 0, 4, 2, 0, 2, 0, 0, 1, 2, 4, 2, 2, 2, 2, 0, 4, 1, 1, 0, 1, 3, 2, 4, 0, 1, 1, 1, 4, 0, 4, 4, 0, 2, 3, 2, 4, 2, 4, 3, 1, 0, 1, 1, 4, 3, 1, 4, 4, 1, 1, 3, 3, 4, 4, 1, 3, 2, 1, 2, 2, 0, 3, 2, 2, 2, 0, 4, 4, 3, 2, 1, 0, 0, 3, 3, 0, 4, 0, 4, 1, 0, 4, 1, 4, 2, 2, 2, 3, 2, 1, 3, 2, 1, 0, 3, 2, 1, 1, 4, 2, 0, 3, 3, 2, 2, 1, 1, 0, 3, 4, 1, 0, 3, 2, 0, 4, 0, 0, 1, 2, 3, 0, 1, 3, 1, 3, 3, 3, 1, 0, 2, 1, 4, 3, 4, 1, 4, 2, 0, 2, 3, 2, 3, 1, 1, 4, 3, 1, 1, 0, 4, 0, 4, 4, 0, 4, 3, 0, 3, 3, 4, 2, 1, 1, 1, 1, 0, 2, 4, 1, 0, 1, 0, 0, 3, 1, 0, 1, 2, 3, 1, 0, 3, 2, 4, 0, 1, 2, 0, 1, 1, 0, 3, 4, 4, 1, 1, 1, 0, 4, 2, 3, 0, 3, 3, 1, 4, 3, 0, 2, 3, 3, 3, 3, 4, 1, 4, 1, 0, 2, 1, 1, 1, 3, 3, 0, 3, 3, 2, 2, 1, 1, 0, 4, 4, 3, 4, 1, 1, 2, 1, 0, 0, 3, 2, 0, 4, 0, 1, 0, 2, 0, 1, 4, 3, 0, 4, 0, 0, 2, 2, 4, 1, 0, 0, 2, 3, 0, 1, 4, 0, 1, 3, 0, 1, 4, 0, 3, 4, 1, 1, 0, 2, 2, 4, 4, 1, 4, 1, 4, 0, 2, 1, 0, 4, 3, 1, 2, 2, 3, 3, 2, 4, 2, 0, 2, 3, 2, 3, 2, 0, 1, 4, 4, 0, 2, 4, 2, 2, 3, 1, 4, 4, 0, 0, 1, 1, 3, 2, 3, 2, 3, 4, 4, 1, 2, 0, 2, 2, 3, 3, 2, 4, 2, 1, 3, 3, 2, 2, 4, 2, 2, 4, 2, 4, 3, 0, 1, 4, 3, 4, 0, 4, 3, 2, 3, 3, 2, 3, 3, 1, 2, 1, 2, 0, 0, 4, 1, 2, 2, 1, 3, 4, 3, 1, 0, 4, 0, 1, 4, 0, 1, 3, 2, 1, 1, 0, 1, 1, 0, 2, 4, 3, 0, 2, 2, 3, 2, 2, 4, 2, 0, 2, 3, 0, 0, 1, 3, 4, 4, 1, 1, 3, 3, 1, 3, 2, 1, 3, 3, 4, 4, 2, 0, 1, 1, 4, 0, 4, 4, 2, 3, 4, 4, 4, 1, 1, 3, 4, 0, 2, 2, 4, 2, 4, 0, 0, 1, 0, 1, 4, 3, 3, 0, 0, 4, 4, 1, 1, 0, 3, 4, 2, 4, 1, 1, 0, 3, 0, 4, 3, 3, 0, 1, 3, 0, 0, 1, 3, 3, 2, 0, 1, 2, 2, 1, 0, 0, 2, 0, 3, 4, 0, 4, 2, 3, 3, 1, 2, 4, 4, 4, 4, 2, 2, 3, 3, 2, 1, 0, 4, 2, 0, 2, 3, 3, 0, 0, 2, 4, 2, 0, 3, 1, 4, 3, 0, 1, 4, 0, 2, 0, 4, 3, 2, 2, 4, 2, 2, 3, 3, 2, 1, 3, 3, 0, 4, 2, 2, 3, 4, 4, 3, 4, 0, 0, 0, 1, 1, 2, 0, 0, 1, 1, 2, 0, 2, 4, 1, 4, 4, 0, 3, 3, 2, 4, 1, 2, 3, 2, 3, 1, 1, 4, 4, 3, 0, 1, 3, 4, 3, 1, 3, 3, 1, 1, 2, 1, 3, 2, 4, 3, 4, 0, 4, 1, 2, 1, 2, 2, 3, 2, 2, 3, 0, 4, 1, 0, 0, 0, 4, 2, 2, 4, 0, 2, 4, 4, 3, 2, 2, 0, 2, 4, 2, 0, 4, 1, 0, 2, 0, 2, 3, 4, 2, 1, 4, 0, 4, 4, 3, 2, 0, 0, 2, 3, 2, 1, 4]\n"
     ]
    }
   ],
   "source": [
    "def train(dataloader, model):\n",
    "    epoch_start_time = time.time()\n",
    "    total_acc, total_count = 0, 0\n",
    "    \n",
    "    for X, y in dataloader:\n",
    "        optimizer.zero_grad()\n",
    "        predicted_label = model(X)\n",
    "        loss = loss_fn(predicted_label, y)\n",
    "        loss.backward()\n",
    "        optimizer.step()\n",
    "                \n",
    "        total_acc   += (predicted_label.argmax(1) == y).sum().item()\n",
    "        total_count += y.size(0)\n",
    "\n",
    "    val_acc, _, _ = accuracy(val_loader, model)\n",
    "    print(f'| epoch {epoch:3d} | train accuracy {total_acc/total_count:8.3f} | val accuracy {val_acc:8.3f} | time: {time.time() - epoch_start_time:5.2f}s')\n",
    "\n",
    "def accuracy(dataloader, model):\n",
    "\n",
    "    total_acc, total_count = 0, 0\n",
    "    predictions = []\n",
    "    labels = []\n",
    "\n",
    "    with torch.no_grad():\n",
    "        for X, y in dataloader:\n",
    "            predicted_label = model(X)\n",
    "            predictions.extend(predicted_label.argmax(1).tolist())\n",
    "            labels.extend(y.tolist())\n",
    "            total_acc += (predicted_label.argmax(1) == y).sum().item()\n",
    "            total_count += y.size(0)\n",
    "    \n",
    "    if adjustment != 0:\n",
    "        predictions = [x + adjustment for x in predictions]\n",
    "        labels = [x + adjustment for x in labels]\n",
    "    return total_acc/total_count, predictions, labels\n",
    "\n",
    "model = Model(vocab_size, embedding_dim, max_len, num_class).to(device)\n",
    "optimizer = torch.optim.Adam(model.parameters(), lr=.001)\n",
    "\n",
    "if weight_bool:\n",
    "    loss_fn = torch.nn.CrossEntropyLoss(weight=weights)\n",
    "else:\n",
    "    loss_fn = torch.nn.CrossEntropyLoss()\n",
    "\n",
    "EPOCHS = 20\n",
    "for epoch in range(1, EPOCHS + 1):\n",
    "    train(train_loader, model)\n",
    "\n",
    "test_acc, predictions, labels = accuracy(test_loader, model)\n",
    "print(f'test accuracy: {test_acc:.3f}')\n",
    "print(predictions)\n",
    "print(labels)"
   ]
  },
  {
   "cell_type": "code",
   "execution_count": 16,
   "id": "fd8b99e0",
   "metadata": {},
   "outputs": [
    {
     "data": {
      "text/html": [
       "<div>\n",
       "<style scoped>\n",
       "    .dataframe tbody tr th:only-of-type {\n",
       "        vertical-align: middle;\n",
       "    }\n",
       "\n",
       "    .dataframe tbody tr th {\n",
       "        vertical-align: top;\n",
       "    }\n",
       "\n",
       "    .dataframe thead th {\n",
       "        text-align: right;\n",
       "    }\n",
       "</style>\n",
       "<table border=\"1\" class=\"dataframe\">\n",
       "  <thead>\n",
       "    <tr style=\"text-align: right;\">\n",
       "      <th></th>\n",
       "      <th>final_ids</th>\n",
       "      <th>prediction</th>\n",
       "      <th>label</th>\n",
       "    </tr>\n",
       "  </thead>\n",
       "  <tbody>\n",
       "    <tr>\n",
       "      <th>0</th>\n",
       "      <td>[141910, 141911, 141912, 141913, 21709, 141914...</td>\n",
       "      <td>2</td>\n",
       "      <td>0</td>\n",
       "    </tr>\n",
       "    <tr>\n",
       "      <th>1</th>\n",
       "      <td>[26100, 142689, 136761, 143595, 38529, 574833,...</td>\n",
       "      <td>2</td>\n",
       "      <td>0</td>\n",
       "    </tr>\n",
       "    <tr>\n",
       "      <th>2</th>\n",
       "      <td>[40325, 40327, 20664, 40329, 40330, 40331, 167...</td>\n",
       "      <td>4</td>\n",
       "      <td>0</td>\n",
       "    </tr>\n",
       "    <tr>\n",
       "      <th>3</th>\n",
       "      <td>[84223, 12111, 11664, 59919, 55466, 77070, 170...</td>\n",
       "      <td>2</td>\n",
       "      <td>4</td>\n",
       "    </tr>\n",
       "    <tr>\n",
       "      <th>4</th>\n",
       "      <td>[116, 110, 17288, 190895, 1925, 1846, 36463, 4...</td>\n",
       "      <td>0</td>\n",
       "      <td>2</td>\n",
       "    </tr>\n",
       "  </tbody>\n",
       "</table>\n",
       "</div>"
      ],
      "text/plain": [
       "                                           final_ids  prediction  label\n",
       "0  [141910, 141911, 141912, 141913, 21709, 141914...           2      0\n",
       "1  [26100, 142689, 136761, 143595, 38529, 574833,...           2      0\n",
       "2  [40325, 40327, 20664, 40329, 40330, 40331, 167...           4      0\n",
       "3  [84223, 12111, 11664, 59919, 55466, 77070, 170...           2      4\n",
       "4  [116, 110, 17288, 190895, 1925, 1846, 36463, 4...           0      2"
      ]
     },
     "metadata": {},
     "output_type": "display_data"
    }
   ],
   "source": [
    "# Create a DataFrame with final_ids, predictions, and labels\n",
    "result_df = pd.DataFrame({\n",
    "    \"final_ids\": test_df[\"final_ids\"].tolist(),\n",
    "    \"prediction\": predictions,\n",
    "    \"label\": labels\n",
    "})\n",
    "\n",
    "display(result_df.head())\n",
    "\n",
    "# Save the DataFrame to a CSV file\n",
    "result_df.to_csv(\"results/revenue_results.csv\", index=False)"
   ]
  },
  {
   "cell_type": "code",
   "execution_count": 702,
   "id": "7e43f859",
   "metadata": {},
   "outputs": [],
   "source": [
    "def scores(predictions, labels):\n",
    "    preds = np.array(predictions)\n",
    "    labels = np.array(labels)\n",
    "\n",
    "    average_distance = np.mean(np.abs(preds - labels))\n",
    "\n",
    "    max_label_distance = labels.max() - labels.min()\n",
    "    abs_diff = np.abs(preds - labels)\n",
    "    proximity_scores = 1 - (abs_diff / max_label_distance)\n",
    "    average_proximity_score = np.mean(proximity_scores)\n",
    "\n",
    "    return average_distance, average_proximity_score"
   ]
  },
  {
   "cell_type": "code",
   "execution_count": 760,
   "id": "70687872",
   "metadata": {},
   "outputs": [
    {
     "name": "stdout",
     "output_type": "stream",
     "text": [
      "Average distance from correct label: 1.054\n",
      "Average proximity score: 0.789\n",
      "Baseline average distance from correct label: 0.617\n",
      "Baseline average proximity score: 0.877\n"
     ]
    }
   ],
   "source": [
    "mae, proximity = scores(predictions, labels)\n",
    "baseline_predictions = np.array([np.mean(labels)] * len(labels))\n",
    "baseline_mae, baseline_proximity = scores(baseline_predictions, labels)\n",
    "\n",
    "print(f\"Average distance from correct label: {mae:.3f}\")\n",
    "print(f\"Average proximity score: {proximity:.3f}\")\n",
    "print(f\"Baseline average distance from correct label: {baseline_mae:.3f}\")\n",
    "print(f\"Baseline average proximity score: {baseline_proximity:.3f}\")"
   ]
  },
  {
   "cell_type": "code",
   "execution_count": 103,
   "id": "929f2fb7",
   "metadata": {},
   "outputs": [
    {
     "data": {
      "application/vnd.plotly.v1+json": {
       "config": {
        "plotlyServerURL": "https://plot.ly"
       },
       "data": [
        {
         "alignmentgroup": "True",
         "bingroup": "x",
         "hovertemplate": "type=Prediction<br>value=%{x}<br>count=%{y}<extra></extra>",
         "legendgroup": "Prediction",
         "marker": {
          "color": "#636efa",
          "pattern": {
           "shape": ""
          }
         },
         "name": "Prediction",
         "offsetgroup": "Prediction",
         "orientation": "v",
         "showlegend": true,
         "type": "histogram",
         "x": {
          "bdata": "BgYGBAYFBgUGBgYEBQQGBgYFBwYEBAYGBAUGBgcFBgUFBgYHBAYHBwYFBgcFBwUGBQYHBwUGBgcGBgYHBgQFBQUFBQYGBwUFBgQICAUFBAYGBwcEBgYGBgcGBAYFBgcGBQUGBgUFBgYEBgYFBgYGBQYFBgUEBgYHBgYGBgcGBgUEBwUEBgYFBwQGBwUFBgQFBQUFBQYFBgQGBwUGBgYGBgYFBwYEBwYGBQcHBQYGBgcGBgYEBQYGBgYEBgYHBQYFBgYGBgcGBAYHBAYHBQUFBggFBQUGBgYFBggFBQUGBQUFBwYFBQUFBAUHBQcGBgYGBgYFBgUEBQYHBgcGBQYFBQUGBgYFBAUHBgUEBgcHBwYEBQQHBgYEBQcFBQcGBgcFBQYGBgQHBQcFBAYGBgUFBQUFBgYFBwgGBAYGBQYFBgYGBAcGBQUGBQcFBgYGBwcHBQUHBwcFCAYGBQYFBgQGBgUFBgYGBgcFBgUGBgUFBQYGBgUHBAYFBgcHBAYHBQcEBQcGBQYFBwUFBgYGBgYFBwUHBQYHBgcGBgYGBQYGBgYGBAYGBwUGBgUFBgUGBQYFBQcHBwUFCAcHBgQGBgYGBgYHBgYGBQQGBgUGBgYEBgUHBgUGBAcFBgUEBgUGBQYGBgYGBgUGBgUEBQUFCAUGBgUFBwYFBgUEBgYFBgYFBQcFBwQHBwYGBgYGBwUFBAcGBQUGBwUFBQUFBQUECAUGBQUGBgUGBgcFBgUFBgUGBwYGBAcEBQYHBwYFBgYHBwYEBQQFBQUGBQYGBQYFBQUGBQUEBgUGBgYFBwUGBAUFBwYGBwcFBAYGBQQGBgYGBQUFBwcFBQUGBAUFBwYFBgQFBwUGBgcGBwUHBQYFBQYFBgYGBQYHBgcGBAcFBAQHBgYHBQYEBQYFBQQGBwYFBgUFBwcHBgYGBwYFBwUFBgcGBQYFBAUGBwYHBQUFBgUGBgUGBQYGBgUHBQYFBgYGBwUFBwYHBwUGBQYEBQYHBQYHBQYGBwUFBgYFBgUHBQQFBgYEBgUHBgYHBgYGBQYGBgYHBwUFBQYHBgUEBQYGBwcGBgQFBQUHBgYGBAYGBAUFBgcHBAYGBwYGBAcGBgYEBAYFBggGBgYGBgYHBgYHBQUFBgUEBgYGBQYHBgcGBwQFBwcGBQYGBgUHBAYEBgYHBgUGBAYGBwYGBwUGBQcGBgQFBAUHBQUGBQcEBQYEBgUEBgYGBgYFBQQGBgUGBQcGCAQGBgYFBQYGBgYFBgYGBwcGBgYFBgcFBgUGBQYHBQYEBwUHBQYFBgUGBAUFBQYGBgUFBQcFBgUHBQYGBgcFBgcHBgYGBQYFBgcFBgYFBgYFBgQEBgUGBwYGBQYEBQcEBwUGBwcGBQYGBQYGBgYFBgUGBwQHBgUFBQYGBQYGBwUGBgUHBQcHBgUGBQYGBwYGBgYFBgUHBgYHBgYGBAUGBgUGBQYGBwUGBgUFBgYGBQYGBgcFBQYFBgYHBAYFBQcGBgUGBgYFBwYHBQYFBwUEBgcFBwUEBAUHBgYIBgYGBwUGBgcGBgYHBQUHBAYGBwUGBgYGBQYHBwUFBgUGBAUFBgYGBgcGBwcGBwYFBwYEBgYGBQYFBgYFBgYGBwYGBgYGBgU=",
          "dtype": "i1"
         },
         "xaxis": "x",
         "yaxis": "y"
        },
        {
         "alignmentgroup": "True",
         "bingroup": "x",
         "hovertemplate": "type=Actual<br>value=%{x}<br>count=%{y}<extra></extra>",
         "legendgroup": "Actual",
         "marker": {
          "color": "#EF553B",
          "pattern": {
           "shape": ""
          }
         },
         "name": "Actual",
         "offsetgroup": "Actual",
         "orientation": "v",
         "showlegend": true,
         "type": "histogram",
         "x": {
          "bdata": "BwcGBgYHBwUHBQYGBgcGBgcFBwcGBgUHBgUFBwUGBwYGBQYHBQUGBgUGBggGBwYHBQYGBwQFBwcGBwYIBwUGBgYGBgcFBgQGBgUHBwcFBQcHBwYFBwUFBgYHBQUGBwcGBwYGBgcFBgYGBQQGBwQEBwUGBwUFCAcHBQcGBQcHBgUFBwUEBwUGBgYHBwUFCAYHBQUFBgYHBgYEBgYHBgUHBgcHCAcEBwYHBwgGBQUHBwcGBwYGBgcGBQYGBgcGBQUFBgYGBgYFBgYGBQYHBQYGBgcDBgYGBQcFBgcGBAYHBgYGBgYGBQYEBQUHBgUGBgUGBgYHBgYGBgcGBQYGBgcHBgYHBgYFBgUGBwUGBgcHBwUFBgYGBQYFBQcGBgYHBwYHBQUHBgcHBgUFBQcGBgYFBgcFBQUGBgcGBgYGBQYHBwUHBQcGBgUGBgcEBgUHBggFBgcHBwYFBQcHBgcGBQUFBgUGBgYFBQcFBwYHBwYFBQYGBwUHBgcGBQcHBQYHBgcGBgYFBwYHBwYGBQYGBgUFBwcHBwYHBgcHBQcGBQYGBwUFBQUGBwcFBgYGBwYHBQUGBgYHBwUFBwgGBgYFBwUGBgcHBgcGBwYGBQUHBwYGBQYGCAUHBgcGBgcGBgUHBgYGBgYHBwUGBQcGBQcFBggHBQYGBwYGBQcFBgcFBgYGBQgGBwYHBwYHBgcGBgUHBQcGBQUFBwYGBgYGBgUEBwUGBQYGBgUGBQYGBQYHBgUHBwcFBwYHBQYHBgYFBwQIBgcFBgUFBQYGBwUHBwcGBQQGBQYEBQUGBggFBgUHBAQFBwcGBwcGBgcHBgYHBgUGBgYGBgYHBgYHBQcGBwYGBAYGBwYFBwYHBwUGBgcEBQcFBwcGBgcIBQcHBgYHBgUHBAcHBQYFBQYEBgQGBgYEBwYFBgcGBQYIBwYGBwUGBgcHBgUFBgcGBwUFBQYGBQYGBgcHBgcGBwUHBQYHBwYHBgYFBwcHBgUGBwcGBQcFBQcGBQUFBwUFBgYFBwUGBwUFBgYEBwcGBwYGBwYGBQYHBwYHBgYHBQYHBgYFBgYFBwcHBQYFBgYIBgYGBQcFBgYGBwcGBQYHBwYGBQYGBwUEBgcGBgcGBwcFBgUHBwYGBgYFBQUEBwUHBQYHBwcHBwcGBgYFBgYHBwYHBQcIBwYHBgQFBQUGBQYGBwYFBQcGBQUGBQUGBQcHBAUFBQQHBgUFBgcGBgYGBgcGBgYEBggFBwUGBgcHBQYGCAcFBggGBgYHBwYGBgYHBgYHBwUJBgQFBQYFBgcEBwMGBgYFBQYHBgUGBAcFBgYGBgYHBwUGBgcGBgcGBgYEBgcEBwgFBgcFBwYGBAUGBQUGBgUFBQcGBgYHBwcGBgcFBQcGBgYFBgYEBwcIBwYGBAYGBgYFBwQHBwcGBQYHBgQGBgUGBwYHBwUFBQYHBQcIBwUFBgUHBwQHBgYHBwYGBQYFBwUHBQYHBwcFBgcGBgYHBwYGBgYGBQYGBQUGBgYFBgcGBgUGBgcGBwUHBQcGBwcHBgYGBgUHBgcHBwYHBAUIBQYGBwYGBQYGBgUGBgUFBwYGBgcEBAYHBQcEBwUHBgYGBwYHBwgIBwYFBgYGBwgFBwYGBgYHBgU=",
          "dtype": "i1"
         },
         "xaxis": "x",
         "yaxis": "y"
        }
       ],
       "layout": {
        "barmode": "group",
        "legend": {
         "title": {
          "text": "type"
         },
         "tracegroupgap": 0
        },
        "template": {
         "data": {
          "bar": [
           {
            "error_x": {
             "color": "#2a3f5f"
            },
            "error_y": {
             "color": "#2a3f5f"
            },
            "marker": {
             "line": {
              "color": "white",
              "width": 0.5
             },
             "pattern": {
              "fillmode": "overlay",
              "size": 10,
              "solidity": 0.2
             }
            },
            "type": "bar"
           }
          ],
          "barpolar": [
           {
            "marker": {
             "line": {
              "color": "white",
              "width": 0.5
             },
             "pattern": {
              "fillmode": "overlay",
              "size": 10,
              "solidity": 0.2
             }
            },
            "type": "barpolar"
           }
          ],
          "carpet": [
           {
            "aaxis": {
             "endlinecolor": "#2a3f5f",
             "gridcolor": "#C8D4E3",
             "linecolor": "#C8D4E3",
             "minorgridcolor": "#C8D4E3",
             "startlinecolor": "#2a3f5f"
            },
            "baxis": {
             "endlinecolor": "#2a3f5f",
             "gridcolor": "#C8D4E3",
             "linecolor": "#C8D4E3",
             "minorgridcolor": "#C8D4E3",
             "startlinecolor": "#2a3f5f"
            },
            "type": "carpet"
           }
          ],
          "choropleth": [
           {
            "colorbar": {
             "outlinewidth": 0,
             "ticks": ""
            },
            "type": "choropleth"
           }
          ],
          "contour": [
           {
            "colorbar": {
             "outlinewidth": 0,
             "ticks": ""
            },
            "colorscale": [
             [
              0,
              "#0d0887"
             ],
             [
              0.1111111111111111,
              "#46039f"
             ],
             [
              0.2222222222222222,
              "#7201a8"
             ],
             [
              0.3333333333333333,
              "#9c179e"
             ],
             [
              0.4444444444444444,
              "#bd3786"
             ],
             [
              0.5555555555555556,
              "#d8576b"
             ],
             [
              0.6666666666666666,
              "#ed7953"
             ],
             [
              0.7777777777777778,
              "#fb9f3a"
             ],
             [
              0.8888888888888888,
              "#fdca26"
             ],
             [
              1,
              "#f0f921"
             ]
            ],
            "type": "contour"
           }
          ],
          "contourcarpet": [
           {
            "colorbar": {
             "outlinewidth": 0,
             "ticks": ""
            },
            "type": "contourcarpet"
           }
          ],
          "heatmap": [
           {
            "colorbar": {
             "outlinewidth": 0,
             "ticks": ""
            },
            "colorscale": [
             [
              0,
              "#0d0887"
             ],
             [
              0.1111111111111111,
              "#46039f"
             ],
             [
              0.2222222222222222,
              "#7201a8"
             ],
             [
              0.3333333333333333,
              "#9c179e"
             ],
             [
              0.4444444444444444,
              "#bd3786"
             ],
             [
              0.5555555555555556,
              "#d8576b"
             ],
             [
              0.6666666666666666,
              "#ed7953"
             ],
             [
              0.7777777777777778,
              "#fb9f3a"
             ],
             [
              0.8888888888888888,
              "#fdca26"
             ],
             [
              1,
              "#f0f921"
             ]
            ],
            "type": "heatmap"
           }
          ],
          "histogram": [
           {
            "marker": {
             "pattern": {
              "fillmode": "overlay",
              "size": 10,
              "solidity": 0.2
             }
            },
            "type": "histogram"
           }
          ],
          "histogram2d": [
           {
            "colorbar": {
             "outlinewidth": 0,
             "ticks": ""
            },
            "colorscale": [
             [
              0,
              "#0d0887"
             ],
             [
              0.1111111111111111,
              "#46039f"
             ],
             [
              0.2222222222222222,
              "#7201a8"
             ],
             [
              0.3333333333333333,
              "#9c179e"
             ],
             [
              0.4444444444444444,
              "#bd3786"
             ],
             [
              0.5555555555555556,
              "#d8576b"
             ],
             [
              0.6666666666666666,
              "#ed7953"
             ],
             [
              0.7777777777777778,
              "#fb9f3a"
             ],
             [
              0.8888888888888888,
              "#fdca26"
             ],
             [
              1,
              "#f0f921"
             ]
            ],
            "type": "histogram2d"
           }
          ],
          "histogram2dcontour": [
           {
            "colorbar": {
             "outlinewidth": 0,
             "ticks": ""
            },
            "colorscale": [
             [
              0,
              "#0d0887"
             ],
             [
              0.1111111111111111,
              "#46039f"
             ],
             [
              0.2222222222222222,
              "#7201a8"
             ],
             [
              0.3333333333333333,
              "#9c179e"
             ],
             [
              0.4444444444444444,
              "#bd3786"
             ],
             [
              0.5555555555555556,
              "#d8576b"
             ],
             [
              0.6666666666666666,
              "#ed7953"
             ],
             [
              0.7777777777777778,
              "#fb9f3a"
             ],
             [
              0.8888888888888888,
              "#fdca26"
             ],
             [
              1,
              "#f0f921"
             ]
            ],
            "type": "histogram2dcontour"
           }
          ],
          "mesh3d": [
           {
            "colorbar": {
             "outlinewidth": 0,
             "ticks": ""
            },
            "type": "mesh3d"
           }
          ],
          "parcoords": [
           {
            "line": {
             "colorbar": {
              "outlinewidth": 0,
              "ticks": ""
             }
            },
            "type": "parcoords"
           }
          ],
          "pie": [
           {
            "automargin": true,
            "type": "pie"
           }
          ],
          "scatter": [
           {
            "fillpattern": {
             "fillmode": "overlay",
             "size": 10,
             "solidity": 0.2
            },
            "type": "scatter"
           }
          ],
          "scatter3d": [
           {
            "line": {
             "colorbar": {
              "outlinewidth": 0,
              "ticks": ""
             }
            },
            "marker": {
             "colorbar": {
              "outlinewidth": 0,
              "ticks": ""
             }
            },
            "type": "scatter3d"
           }
          ],
          "scattercarpet": [
           {
            "marker": {
             "colorbar": {
              "outlinewidth": 0,
              "ticks": ""
             }
            },
            "type": "scattercarpet"
           }
          ],
          "scattergeo": [
           {
            "marker": {
             "colorbar": {
              "outlinewidth": 0,
              "ticks": ""
             }
            },
            "type": "scattergeo"
           }
          ],
          "scattergl": [
           {
            "marker": {
             "colorbar": {
              "outlinewidth": 0,
              "ticks": ""
             }
            },
            "type": "scattergl"
           }
          ],
          "scattermap": [
           {
            "marker": {
             "colorbar": {
              "outlinewidth": 0,
              "ticks": ""
             }
            },
            "type": "scattermap"
           }
          ],
          "scattermapbox": [
           {
            "marker": {
             "colorbar": {
              "outlinewidth": 0,
              "ticks": ""
             }
            },
            "type": "scattermapbox"
           }
          ],
          "scatterpolar": [
           {
            "marker": {
             "colorbar": {
              "outlinewidth": 0,
              "ticks": ""
             }
            },
            "type": "scatterpolar"
           }
          ],
          "scatterpolargl": [
           {
            "marker": {
             "colorbar": {
              "outlinewidth": 0,
              "ticks": ""
             }
            },
            "type": "scatterpolargl"
           }
          ],
          "scatterternary": [
           {
            "marker": {
             "colorbar": {
              "outlinewidth": 0,
              "ticks": ""
             }
            },
            "type": "scatterternary"
           }
          ],
          "surface": [
           {
            "colorbar": {
             "outlinewidth": 0,
             "ticks": ""
            },
            "colorscale": [
             [
              0,
              "#0d0887"
             ],
             [
              0.1111111111111111,
              "#46039f"
             ],
             [
              0.2222222222222222,
              "#7201a8"
             ],
             [
              0.3333333333333333,
              "#9c179e"
             ],
             [
              0.4444444444444444,
              "#bd3786"
             ],
             [
              0.5555555555555556,
              "#d8576b"
             ],
             [
              0.6666666666666666,
              "#ed7953"
             ],
             [
              0.7777777777777778,
              "#fb9f3a"
             ],
             [
              0.8888888888888888,
              "#fdca26"
             ],
             [
              1,
              "#f0f921"
             ]
            ],
            "type": "surface"
           }
          ],
          "table": [
           {
            "cells": {
             "fill": {
              "color": "#EBF0F8"
             },
             "line": {
              "color": "white"
             }
            },
            "header": {
             "fill": {
              "color": "#C8D4E3"
             },
             "line": {
              "color": "white"
             }
            },
            "type": "table"
           }
          ]
         },
         "layout": {
          "annotationdefaults": {
           "arrowcolor": "#2a3f5f",
           "arrowhead": 0,
           "arrowwidth": 1
          },
          "autotypenumbers": "strict",
          "coloraxis": {
           "colorbar": {
            "outlinewidth": 0,
            "ticks": ""
           }
          },
          "colorscale": {
           "diverging": [
            [
             0,
             "#8e0152"
            ],
            [
             0.1,
             "#c51b7d"
            ],
            [
             0.2,
             "#de77ae"
            ],
            [
             0.3,
             "#f1b6da"
            ],
            [
             0.4,
             "#fde0ef"
            ],
            [
             0.5,
             "#f7f7f7"
            ],
            [
             0.6,
             "#e6f5d0"
            ],
            [
             0.7,
             "#b8e186"
            ],
            [
             0.8,
             "#7fbc41"
            ],
            [
             0.9,
             "#4d9221"
            ],
            [
             1,
             "#276419"
            ]
           ],
           "sequential": [
            [
             0,
             "#0d0887"
            ],
            [
             0.1111111111111111,
             "#46039f"
            ],
            [
             0.2222222222222222,
             "#7201a8"
            ],
            [
             0.3333333333333333,
             "#9c179e"
            ],
            [
             0.4444444444444444,
             "#bd3786"
            ],
            [
             0.5555555555555556,
             "#d8576b"
            ],
            [
             0.6666666666666666,
             "#ed7953"
            ],
            [
             0.7777777777777778,
             "#fb9f3a"
            ],
            [
             0.8888888888888888,
             "#fdca26"
            ],
            [
             1,
             "#f0f921"
            ]
           ],
           "sequentialminus": [
            [
             0,
             "#0d0887"
            ],
            [
             0.1111111111111111,
             "#46039f"
            ],
            [
             0.2222222222222222,
             "#7201a8"
            ],
            [
             0.3333333333333333,
             "#9c179e"
            ],
            [
             0.4444444444444444,
             "#bd3786"
            ],
            [
             0.5555555555555556,
             "#d8576b"
            ],
            [
             0.6666666666666666,
             "#ed7953"
            ],
            [
             0.7777777777777778,
             "#fb9f3a"
            ],
            [
             0.8888888888888888,
             "#fdca26"
            ],
            [
             1,
             "#f0f921"
            ]
           ]
          },
          "colorway": [
           "#636efa",
           "#EF553B",
           "#00cc96",
           "#ab63fa",
           "#FFA15A",
           "#19d3f3",
           "#FF6692",
           "#B6E880",
           "#FF97FF",
           "#FECB52"
          ],
          "font": {
           "color": "#2a3f5f"
          },
          "geo": {
           "bgcolor": "white",
           "lakecolor": "white",
           "landcolor": "white",
           "showlakes": true,
           "showland": true,
           "subunitcolor": "#C8D4E3"
          },
          "hoverlabel": {
           "align": "left"
          },
          "hovermode": "closest",
          "mapbox": {
           "style": "light"
          },
          "paper_bgcolor": "white",
          "plot_bgcolor": "white",
          "polar": {
           "angularaxis": {
            "gridcolor": "#EBF0F8",
            "linecolor": "#EBF0F8",
            "ticks": ""
           },
           "bgcolor": "white",
           "radialaxis": {
            "gridcolor": "#EBF0F8",
            "linecolor": "#EBF0F8",
            "ticks": ""
           }
          },
          "scene": {
           "xaxis": {
            "backgroundcolor": "white",
            "gridcolor": "#DFE8F3",
            "gridwidth": 2,
            "linecolor": "#EBF0F8",
            "showbackground": true,
            "ticks": "",
            "zerolinecolor": "#EBF0F8"
           },
           "yaxis": {
            "backgroundcolor": "white",
            "gridcolor": "#DFE8F3",
            "gridwidth": 2,
            "linecolor": "#EBF0F8",
            "showbackground": true,
            "ticks": "",
            "zerolinecolor": "#EBF0F8"
           },
           "zaxis": {
            "backgroundcolor": "white",
            "gridcolor": "#DFE8F3",
            "gridwidth": 2,
            "linecolor": "#EBF0F8",
            "showbackground": true,
            "ticks": "",
            "zerolinecolor": "#EBF0F8"
           }
          },
          "shapedefaults": {
           "line": {
            "color": "#2a3f5f"
           }
          },
          "ternary": {
           "aaxis": {
            "gridcolor": "#DFE8F3",
            "linecolor": "#A2B1C6",
            "ticks": ""
           },
           "baxis": {
            "gridcolor": "#DFE8F3",
            "linecolor": "#A2B1C6",
            "ticks": ""
           },
           "bgcolor": "white",
           "caxis": {
            "gridcolor": "#DFE8F3",
            "linecolor": "#A2B1C6",
            "ticks": ""
           }
          },
          "title": {
           "x": 0.05
          },
          "xaxis": {
           "automargin": true,
           "gridcolor": "#EBF0F8",
           "linecolor": "#EBF0F8",
           "ticks": "",
           "title": {
            "standoff": 15
           },
           "zerolinecolor": "#EBF0F8",
           "zerolinewidth": 2
          },
          "yaxis": {
           "automargin": true,
           "gridcolor": "#EBF0F8",
           "linecolor": "#EBF0F8",
           "ticks": "",
           "title": {
            "standoff": 15
           },
           "zerolinecolor": "#EBF0F8",
           "zerolinewidth": 2
          }
         }
        },
        "title": {
         "text": "Predictions vs Actual"
        },
        "xaxis": {
         "anchor": "y",
         "domain": [
          0,
          1
         ],
         "title": {
          "text": "Class"
         }
        },
        "yaxis": {
         "anchor": "x",
         "domain": [
          0,
          1
         ],
         "title": {
          "text": "Count"
         }
        }
       }
      }
     },
     "metadata": {},
     "output_type": "display_data"
    }
   ],
   "source": [
    "# Combine predictions and labels into one DataFrame\n",
    "df = pd.DataFrame({\n",
    "    \"value\": predictions + labels,\n",
    "    \"type\": [\"Prediction\"] * len(predictions) + [\"Actual\"] * len(labels)\n",
    "})\n",
    "\n",
    "# Create grouped histogram\n",
    "fig = px.histogram(df, x=\"value\", color=\"type\", barmode=\"group\",\n",
    "                   title=\"Predictions vs Actual\")\n",
    "fig.update_layout(xaxis_title=\"Class\", yaxis_title=\"Count\")\n",
    "fig.show()\n"
   ]
  },
  {
   "cell_type": "markdown",
   "id": "2fb24aa8",
   "metadata": {},
   "source": [
    "Notes of what I did:\n",
    "Use of crew, cast, genres, and production companies as embeddings\n",
    "Padding the embeddings to the same length\n",
    "Weighting the training data to account for imbalance\n",
    "Proximity score to account for multi-class context\n",
    "Predicting vote average proved difficult. Wasn't able to beat the baseline using just the embeddings.\n",
    "Predicting popularity marginally beat the baseline using just the embeddings.\n",
    "Predicting revenue was the most successful, beating the baseline by a larger margin using just the embeddings (and had a better proximity score).\n",
    "Tried attention pooling with layer normalization which didn't have much of an effect.\n",
    "Added positional embeddings to capture the order of the embeddings.\n",
    "Then tried self-attention to capture the relationships between the embeddings."
   ]
  }
 ],
 "metadata": {
  "kernelspec": {
   "display_name": "ml-0451",
   "language": "python",
   "name": "python3"
  },
  "language_info": {
   "codemirror_mode": {
    "name": "ipython",
    "version": 3
   },
   "file_extension": ".py",
   "mimetype": "text/x-python",
   "name": "python",
   "nbconvert_exporter": "python",
   "pygments_lexer": "ipython3",
   "version": "3.9.21"
  }
 },
 "nbformat": 4,
 "nbformat_minor": 5
}
