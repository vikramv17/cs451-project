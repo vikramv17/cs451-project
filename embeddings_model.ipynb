{
 "cells": [
  {
   "cell_type": "code",
   "execution_count": 110,
   "id": "d4da4c47",
   "metadata": {},
   "outputs": [],
   "source": [
    "#| include: false\n",
    "\n",
    "import pandas as pd\n",
    "import torch\n",
    "from torch import nn\n",
    "from torch.utils.data import Dataset, DataLoader\n",
    "from sklearn.preprocessing import LabelEncoder\n",
    "import numpy as np\n",
    "import time\n",
    "import plotly.express as px\n",
    "import plotly.io as pio\n",
    "pio.templates.default = \"plotly_white\"\n",
    "from sklearn.model_selection import train_test_split\n",
    "import warnings\n",
    "warnings.filterwarnings(\"ignore\", category = UserWarning)\n",
    "from transformers import BertTokenizer\n",
    "device = torch.device(\"cuda\" if torch.cuda.is_available() else \"cpu\")\n",
    "from sklearn.decomposition import PCA\n",
    "import matplotlib.pyplot as plt\n",
    "from sklearn.utils.class_weight import compute_class_weight\n",
    "import torch.nn.functional as F"
   ]
  },
  {
   "cell_type": "code",
   "execution_count": 162,
   "id": "6fc016da",
   "metadata": {},
   "outputs": [
    {
     "data": {
      "text/html": [
       "<div>\n",
       "<style scoped>\n",
       "    .dataframe tbody tr th:only-of-type {\n",
       "        vertical-align: middle;\n",
       "    }\n",
       "\n",
       "    .dataframe tbody tr th {\n",
       "        vertical-align: top;\n",
       "    }\n",
       "\n",
       "    .dataframe thead th {\n",
       "        text-align: right;\n",
       "    }\n",
       "</style>\n",
       "<table border=\"1\" class=\"dataframe\">\n",
       "  <thead>\n",
       "    <tr style=\"text-align: right;\">\n",
       "      <th></th>\n",
       "      <th>movie_id</th>\n",
       "      <th>vote_average</th>\n",
       "      <th>final_ids</th>\n",
       "      <th>label</th>\n",
       "    </tr>\n",
       "  </thead>\n",
       "  <tbody>\n",
       "    <tr>\n",
       "      <th>0</th>\n",
       "      <td>862</td>\n",
       "      <td>7.7</td>\n",
       "      <td>[31, 12898, 7167, 12899, 12900, 7907, 8873, 11...</td>\n",
       "      <td>15</td>\n",
       "    </tr>\n",
       "    <tr>\n",
       "      <th>1</th>\n",
       "      <td>8844</td>\n",
       "      <td>6.9</td>\n",
       "      <td>[2157, 8537, 205, 145151, 5149, 10739, 58563, ...</td>\n",
       "      <td>13</td>\n",
       "    </tr>\n",
       "    <tr>\n",
       "      <th>2</th>\n",
       "      <td>11862</td>\n",
       "      <td>5.7</td>\n",
       "      <td>[67773, 3092, 519, 70696, 59222, 18793, 14592,...</td>\n",
       "      <td>11</td>\n",
       "    </tr>\n",
       "    <tr>\n",
       "      <th>3</th>\n",
       "      <td>949</td>\n",
       "      <td>7.7</td>\n",
       "      <td>[1158, 380, 5576, 10127, 3197, 6200, 15851, 15...</td>\n",
       "      <td>15</td>\n",
       "    </tr>\n",
       "    <tr>\n",
       "      <th>4</th>\n",
       "      <td>11860</td>\n",
       "      <td>6.2</td>\n",
       "      <td>[3, 15887, 17141, 4301, 12957, 8937, 16554, 34...</td>\n",
       "      <td>12</td>\n",
       "    </tr>\n",
       "  </tbody>\n",
       "</table>\n",
       "</div>"
      ],
      "text/plain": [
       "   movie_id  vote_average                                          final_ids  \\\n",
       "0       862           7.7  [31, 12898, 7167, 12899, 12900, 7907, 8873, 11...   \n",
       "1      8844           6.9  [2157, 8537, 205, 145151, 5149, 10739, 58563, ...   \n",
       "2     11862           5.7  [67773, 3092, 519, 70696, 59222, 18793, 14592,...   \n",
       "3       949           7.7  [1158, 380, 5576, 10127, 3197, 6200, 15851, 15...   \n",
       "4     11860           6.2  [3, 15887, 17141, 4301, 12957, 8937, 16554, 34...   \n",
       "\n",
       "   label  \n",
       "0     15  \n",
       "1     13  \n",
       "2     11  \n",
       "3     15  \n",
       "4     12  "
      ]
     },
     "metadata": {},
     "output_type": "display_data"
    }
   ],
   "source": [
    "df = pd.read_csv(\"clean_data/embeddings.csv\")\n",
    "df[\"label\"] = (df[\"vote_average\"] // 0.5).astype(int)\n",
    "\n",
    "display(df.head())\n"
   ]
  },
  {
   "cell_type": "code",
   "execution_count": 163,
   "id": "7816c712",
   "metadata": {},
   "outputs": [
    {
     "name": "stdout",
     "output_type": "stream",
     "text": [
      "Baseline accuracy: 0.21\n"
     ]
    }
   ],
   "source": [
    "# calculate the baseline accuracy\n",
    "baseline_accuracy = df[\"label\"].value_counts(normalize=True).max()\n",
    "print(f\"Baseline accuracy: {baseline_accuracy:.2f}\")"
   ]
  },
  {
   "cell_type": "code",
   "execution_count": 165,
   "id": "6569be27",
   "metadata": {},
   "outputs": [],
   "source": [
    "train_df, val_df = train_test_split(df, test_size=0.2, random_state=42)\n",
    "\n",
    "def preprocess(df):\n",
    "    X = df[\"final_ids\"]\n",
    "    # convert string representation of list to actual list\n",
    "    X = [eval(ids) for ids in X]\n",
    "    y = list(df[\"label\"])\n",
    "    # subtract 2 from y to make it zero-indexed\n",
    "    y = [label - 5 for label in y]\n",
    "    return X, y\n",
    "\n",
    "class ToDF(Dataset):\n",
    "    def __init__(self, df):\n",
    "        self.X, self.y = preprocess(df)\n",
    "\n",
    "    def __getitem__(self, ix):\n",
    "        return self.X[ix], self.y[ix]\n",
    "\n",
    "    def __len__(self):\n",
    "        return len(self.y)\n",
    "    \n",
    "train = ToDF(train_df)\n",
    "val = ToDF(val_df)\n",
    "\n",
    "def collate(data):\n",
    "    X = torch.tensor([d[0] for d in data])\n",
    "    y = torch.tensor([d[1] for d in data])\n",
    "    return X, y \n",
    "\n",
    "train_loader = DataLoader(train, batch_size=32, shuffle=True, collate_fn=collate)\n",
    "val_loader = DataLoader(val, batch_size=32, shuffle=False, collate_fn=collate)"
   ]
  },
  {
   "cell_type": "code",
   "execution_count": 166,
   "id": "fb9d1438",
   "metadata": {},
   "outputs": [
    {
     "name": "stdout",
     "output_type": "stream",
     "text": [
      "Vocab size: 1908262\n",
      "Max length: 1017\n"
     ]
    }
   ],
   "source": [
    "vocab_size = max([item for sublist in df[\"final_ids\"].apply(eval).tolist() for item in sublist])\n",
    "max_len = max([len(item) for item in df[\"final_ids\"].apply(eval).tolist()])\n",
    "print(f\"Vocab size: {vocab_size}\")\n",
    "print(f\"Max length: {max_len}\")"
   ]
  },
  {
   "cell_type": "code",
   "execution_count": 174,
   "id": "0126d662",
   "metadata": {},
   "outputs": [],
   "source": [
    "y_train = train_df[\"label\"].values - 5\n",
    "classes = np.arange(0, max(y_train) + 1)\n",
    "weights = compute_class_weight(class_weight='balanced', classes=classes, y=y_train)\n",
    "weights = torch.tensor(weights, dtype=torch.float)"
   ]
  },
  {
   "cell_type": "code",
   "execution_count": 181,
   "id": "05ce8281",
   "metadata": {},
   "outputs": [],
   "source": [
    "class Model(nn.Module):\n",
    "\n",
    "    def __init__(self, vocab_size, embedding_dim, max_len, num_class):\n",
    "        super().__init__()\n",
    "        self.embedding = nn.Embedding(vocab_size+1, embedding_dim)\n",
    "        self.fc = nn.Sequential(\n",
    "            nn.Dropout(0.3),\n",
    "            nn.Linear(max_len * embedding_dim, 256),\n",
    "            nn.Dropout(0.3),\n",
    "            nn.Linear(256, 128),\n",
    "            nn.Dropout(0.3),\n",
    "            nn.Linear(128, num_class)\n",
    "        )\n",
    "\n",
    "    def forward(self, X):\n",
    "        x = self.embedding(X)\n",
    "        x = torch.flatten(x, 1)\n",
    "        x = self.fc(x)\n",
    "        return x\n",
    "\n",
    "embedding_dim = 25\n",
    "num_class = 90"
   ]
  },
  {
   "cell_type": "code",
   "execution_count": 179,
   "id": "f342d5d0",
   "metadata": {},
   "outputs": [
    {
     "name": "stdout",
     "output_type": "stream",
     "text": [
      "| epoch   1 | train accuracy    0.190 | time: 11.73s\n",
      "| epoch   2 | train accuracy    0.192 | time: 11.53s\n",
      "| epoch   3 | train accuracy    0.199 | time: 11.54s\n",
      "| epoch   4 | train accuracy    0.198 | time: 11.68s\n",
      "| epoch   5 | train accuracy    0.203 | time: 11.57s\n",
      "| epoch   6 | train accuracy    0.197 | time: 11.49s\n",
      "| epoch   7 | train accuracy    0.201 | time: 11.69s\n",
      "| epoch   8 | train accuracy    0.202 | time: 11.66s\n",
      "| epoch   9 | train accuracy    0.203 | time: 11.58s\n",
      "| epoch  10 | train accuracy    0.203 | time: 11.56s\n",
      "| epoch  11 | train accuracy    0.209 | time: 12.21s\n",
      "| epoch  12 | train accuracy    0.201 | time: 11.61s\n",
      "| epoch  13 | train accuracy    0.211 | time: 11.49s\n",
      "| epoch  14 | train accuracy    0.215 | time: 11.55s\n",
      "| epoch  15 | train accuracy    0.228 | time: 11.53s\n",
      "| epoch  16 | train accuracy    0.250 | time: 11.58s\n",
      "| epoch  17 | train accuracy    0.285 | time: 11.65s\n",
      "| epoch  18 | train accuracy    0.288 | time: 11.75s\n",
      "| epoch  19 | train accuracy    0.324 | time: 11.76s\n",
      "| epoch  20 | train accuracy    0.335 | time: 11.56s\n",
      "validation accuracy: 0.188\n",
      "[10, 7, 9, 9, 9, 7, 9, 9, 9, 9, 6, 9, 9, 9, 9, 7, 6, 7, 9, 9, 9, 8, 7, 6, 6, 9, 7, 7, 7, 8, 6, 7, 8, 6, 9, 10, 6, 8, 8, 7, 9, 8, 8, 5, 8, 9, 6, 6, 6, 6, 9, 9, 8, 8, 9, 9, 9, 9, 6, 10, 5, 9, 8, 8, 9, 6, 9, 7, 9, 9, 9, 6, 8, 9, 9, 9, 7, 6, 9, 6, 9, 9, 9, 9, 9, 8, 8, 9, 6, 9, 7, 7, 8, 8, 8, 7, 9, 9, 7, 7, 6, 8, 9, 5, 9, 7, 9, 9, 9, 9, 8, 7, 9, 9, 10, 9, 6, 10, 6, 9, 6, 8, 8, 9, 9, 9, 8, 9, 9, 10, 8, 6, 6, 7, 6, 7, 7, 5, 9, 6, 7, 10, 10, 9, 6, 6, 9, 8, 8, 5, 7, 9, 9, 9, 9, 9, 7, 6, 7, 9, 9, 8, 10, 8, 5, 9, 8, 6, 7, 10, 6, 9, 9, 8, 8, 9, 8, 5, 6, 9, 9, 8, 6, 6, 9, 9, 9, 5, 7, 5, 9, 9, 9, 9, 6, 5, 6, 6, 9, 8, 6, 9, 8, 6, 9, 9, 6, 7, 10, 9, 8, 8, 9, 6, 9, 6, 6, 9, 6, 9, 8, 9, 8, 6, 8, 6, 8, 8, 9, 9, 8, 9, 6, 9, 8, 8, 9, 8, 7, 9, 5, 8, 7, 8, 7, 10, 7, 9, 10, 7, 5, 6, 6, 9, 7, 7, 8, 10, 9, 9, 8, 9, 9, 9, 6, 7, 6, 9, 6, 10, 6, 6, 10, 9, 6, 7, 7, 6, 9, 9, 5, 6, 8, 8, 6, 9, 7, 7, 6, 9, 8, 8, 6, 10, 8, 9, 9, 5, 8, 9, 9, 8, 5, 6, 9, 6, 9, 9, 9, 9, 9, 9, 5, 9, 7, 6, 9, 9, 7, 7, 9, 7, 8, 7, 7, 7, 9, 6, 6, 9, 9, 8, 10, 8, 10, 9, 8, 6, 9, 9, 9, 9, 9, 8, 6, 7, 6, 6, 7, 10, 8, 10, 6, 8, 8, 9, 7, 9, 6, 9, 9, 6, 6, 9, 9, 6, 8, 8, 8, 9, 9, 5, 9, 6, 9, 8, 9, 9, 9, 5, 10, 9, 10, 10, 8, 5, 7, 9, 8, 9, 7, 9, 9, 6, 9, 9, 9, 9, 6, 8, 7, 9, 10, 6, 5, 8, 9, 8, 9, 5, 9, 9, 8, 9, 6, 7, 8, 9, 8, 7, 9, 8, 7, 7, 8, 7, 6, 6, 9, 9, 7, 9, 8, 8, 6, 9, 8, 7, 9, 10, 9, 8, 6, 5, 7, 9, 9, 5, 9, 9, 9, 9, 9, 5, 9, 6, 6, 9, 9, 8, 6, 8, 9, 6, 7, 9, 8, 6, 7, 9, 7, 9, 9, 9, 6, 9, 10, 10, 6, 10, 8, 6, 9, 6, 7, 8, 9, 9, 8, 8, 9, 6, 6, 6, 7, 9, 6, 8, 7, 9, 8, 8, 9, 7, 9, 9, 6, 9, 9, 6, 9, 5, 8, 5, 9, 10, 5, 8, 9, 8, 9, 9, 7, 8, 10, 7, 9, 9, 9, 9, 8, 8, 9, 9, 9, 8, 6, 8, 6, 6, 9, 9, 9, 9, 7, 10, 9, 9, 6, 9, 9, 8, 9, 8, 8, 8, 9, 10, 7, 6, 9, 5, 9, 6, 9, 8, 5, 6, 9, 7, 9, 9, 9, 9, 6, 6, 10, 9, 7, 9, 9, 7, 8, 8, 9, 9, 9, 9, 6, 7, 9, 8, 9, 9, 8, 9, 8, 9, 9, 9, 6, 9, 8, 8, 9, 7, 9, 7, 10, 10, 10, 9, 8, 6, 9, 8, 9, 9, 8, 10, 7, 8, 9, 10, 8, 9, 7, 7, 6, 9, 6, 7, 7, 9, 9, 5, 6, 5, 9, 5, 9, 9, 6, 9, 9, 5, 9, 9, 10, 6, 9, 9, 9, 8, 6, 6, 9, 9, 9, 10, 8, 5, 5, 9, 9, 7, 9, 8, 9, 10, 5, 9, 10, 9, 9, 6, 7, 6, 7, 9, 10, 9, 9, 9, 10, 5, 7, 9, 6, 10, 6, 8, 8, 8, 10, 9, 7, 6, 8, 8, 9, 9, 8, 9, 7, 8, 6, 8, 9, 6, 9, 8, 9, 6, 7, 8, 9, 7, 9, 10, 9, 9, 9, 9, 6, 9, 8, 9, 9, 8, 9, 5, 9, 7, 9, 5, 8, 9, 6, 9, 8, 7, 7, 9, 10, 6, 6, 10, 7, 8, 8, 5, 7, 10, 10, 7, 9, 9, 7, 9, 9, 10, 9, 9, 9, 6, 8, 5, 6, 7, 8, 6, 8, 8, 7, 9, 5, 9, 6, 9, 10, 9, 9, 8, 7, 9, 8, 9, 8, 6, 9, 9, 6, 6, 9, 9, 9, 7, 9, 8, 9, 7, 8, 10, 9, 9, 8, 6, 6, 8, 7, 6, 5, 9, 5, 7, 9, 10, 6, 6, 6, 9, 8, 8, 9, 9, 9, 7, 10, 7, 9, 9, 9, 9, 9, 5, 9, 6, 6, 6, 6, 9, 8, 7, 9, 7, 7, 9, 10, 6, 6, 6, 9, 7, 9, 7, 9, 9, 7, 9, 6, 9, 7, 8, 8, 9, 5, 9, 9, 6, 6, 9, 6, 9, 6, 9, 9, 9, 9, 9, 8, 8, 9, 7, 9, 9, 7, 8, 9, 9, 8, 9, 9, 9, 9, 8, 6, 9, 7, 9, 7, 8, 9, 10, 9, 9, 9, 5, 9, 9, 9, 9, 9, 9, 8, 9, 10, 8, 9, 6, 9, 7, 9, 8, 10, 9, 5, 8, 9, 9, 8, 5, 7, 8, 10, 9, 9, 9, 10, 8, 7, 7, 9, 10, 9, 7, 5, 7, 9, 9, 8, 9, 5, 10, 6, 8, 6, 6, 7, 9, 8, 9, 7, 6, 9, 8, 9, 8, 9, 9, 8, 6, 6, 7, 5, 9, 9, 9, 9, 8, 9, 7, 9, 5, 9, 7, 9, 6, 10, 9, 9, 6, 9, 9, 9, 5, 9, 7, 7, 8, 5, 5, 6, 8, 7, 5, 9, 6, 8, 8, 9, 10, 9, 8, 7, 9, 9, 7, 9, 9, 6, 9, 8, 6, 5, 9, 9, 10, 8, 6, 8, 7, 8, 9, 6, 6, 6, 7, 7, 9, 9, 6, 6, 7, 7, 6, 7, 9, 6, 6, 5, 9, 9, 7, 9, 8, 8, 7, 7, 8, 5, 7, 9, 6, 8, 8, 8, 6, 10, 5, 7, 5, 9, 9, 6, 6, 10, 5, 9, 9, 9, 6, 7, 9, 9, 6, 6, 6, 9, 8, 6, 6, 8, 6, 8, 8, 7, 9, 9, 6, 9, 9, 9, 6, 8, 6, 6, 9, 10, 6, 6, 9, 7, 6, 8, 8, 8, 9, 9, 7, 9, 6, 7, 7, 6, 6, 8, 5, 5, 9, 8, 9, 6, 8, 9, 8, 9, 9, 9, 9, 10, 10, 10, 9, 9, 6, 9, 8, 6, 8, 9, 9, 9, 6, 9, 6, 9, 9, 8, 6, 5, 9, 9, 7, 8, 9, 7, 9, 9, 6, 9, 6, 5, 6, 7, 6, 9, 7, 9, 9, 8, 10, 8, 9, 9, 10, 6, 9, 5, 7, 7, 5, 6, 8, 7, 9, 8, 9, 8, 9, 9, 9, 7, 9, 9, 8, 9, 8, 9, 9, 6, 9, 7, 8]\n",
      "[9, 9, 7, 7, 7, 9, 10, 6, 9, 6, 8, 8, 8, 9, 7, 8, 9, 5, 9, 10, 7, 7, 5, 9, 8, 5, 6, 9, 6, 8, 9, 8, 8, 5, 7, 9, 5, 6, 8, 7, 6, 7, 7, 11, 7, 9, 7, 9, 6, 7, 7, 9, 4, 5, 9, 9, 8, 10, 7, 11, 9, 5, 7, 7, 7, 8, 7, 9, 6, 7, 4, 8, 7, 5, 10, 10, 9, 6, 5, 9, 9, 9, 8, 6, 9, 6, 6, 8, 8, 9, 5, 5, 7, 9, 10, 7, 9, 7, 7, 8, 9, 6, 8, 7, 8, 6, 4, 7, 10, 4, 4, 9, 6, 7, 10, 6, 6, 11, 10, 9, 5, 10, 7, 5, 10, 9, 7, 5, 5, 10, 6, 4, 9, 6, 7, 7, 7, 9, 9, 6, 6, 11, 8, 10, 5, 5, 6, 7, 7, 9, 8, 7, 3, 7, 8, 9, 7, 6, 10, 7, 10, 9, 11, 9, 4, 9, 8, 9, 9, 11, 8, 6, 5, 9, 10, 10, 7, 10, 8, 8, 7, 9, 7, 6, 8, 7, 7, 10, 8, 6, 5, 5, 8, 7, 7, 7, 7, 6, 7, 8, 7, 5, 8, 10, 5, 8, 7, 8, 10, 2, 7, 8, 8, 5, 9, 6, 8, 10, 8, 4, 7, 9, 8, 8, 7, 7, 8, 7, 6, 7, 4, 5, 6, 9, 8, 6, 7, 7, 6, 8, 7, 8, 9, 7, 7, 7, 8, 10, 8, 5, 8, 8, 7, 10, 10, 8, 7, 9, 7, 7, 6, 7, 5, 8, 10, 6, 7, 8, 9, 10, 10, 6, 5, 8, 7, 8, 6, 7, 6, 5, 9, 8, 8, 7, 10, 9, 7, 9, 6, 6, 9, 8, 9, 10, 7, 6, 6, 6, 9, 8, 8, 8, 6, 7, 9, 6, 6, 5, 8, 7, 10, 7, 7, 8, 8, 5, 7, 9, 10, 6, 9, 5, 9, 8, 8, 6, 7, 8, 10, 4, 8, 6, 10, 7, 11, 5, 7, 9, 9, 9, 8, 6, 5, 9, 9, 8, 9, 7, 6, 5, 5, 8, 5, 8, 7, 8, 6, 6, 10, 5, 9, 8, 9, 9, 7, 6, 6, 7, 8, 10, 5, 10, 8, 10, 7, 6, 10, 10, 5, 8, 10, 8, 10, 7, 7, 8, 6, 9, 8, 9, 9, 7, 7, 6, 8, 8, 8, 5, 5, 9, 9, 9, 10, 8, 9, 7, 9, 9, 5, 9, 8, 5, 7, 7, 9, 6, 6, 6, 6, 7, 10, 9, 6, 7, 8, 7, 10, 7, 9, 6, 6, 7, 8, 8, 9, 10, 6, 6, 10, 11, 7, 8, 8, 6, 9, 6, 8, 8, 9, 9, 7, 10, 7, 9, 8, 7, 6, 6, 9, 9, 7, 7, 6, 8, 8, 11, 6, 9, 7, 9, 8, 7, 9, 7, 7, 6, 10, 8, 8, 8, 7, 7, 10, 9, 6, 7, 5, 10, 7, 6, 9, 6, 8, 11, 10, 6, 7, 7, 9, 8, 8, 5, 10, 6, 8, 9, 5, 8, 7, 8, 5, 11, 8, 9, 7, 9, 9, 7, 9, 8, 9, 7, 8, 6, 9, 6, 9, 7, 5, 5, 5, 9, 8, 8, 8, 7, 8, 7, 5, 4, 9, 6, 7, 5, 8, 8, 8, 5, 8, 5, 7, 7, 5, 7, 9, 7, 5, 10, 10, 9, 6, 9, 7, 9, 6, 7, 10, 7, 7, 5, 9, 4, 12, 8, 9, 6, 7, 5, 6, 5, 7, 8, 9, 6, 9, 10, 9, 8, 6, 4, 8, 6, 7, 4, 6, 6, 7, 7, 11, 5, 8, 6, 10, 4, 3, 6, 9, 9, 8, 9, 10, 7, 7, 10, 9, 7, 7, 9, 7, 5, 8, 8, 8, 7, 8, 7, 9, 8, 7, 9, 5, 9, 8, 10, 8, 7, 4, 8, 7, 10, 8, 6, 10, 7, 9, 9, 5, 7, 7, 9, 3, 6, 9, 6, 9, 9, 8, 7, 10, 11, 6, 9, 9, 8, 8, 9, 7, 5, 10, 4, 9, 10, 6, 8, 6, 6, 8, 4, 7, 4, 8, 8, 8, 4, 9, 7, 6, 8, 9, 8, 6, 7, 11, 9, 8, 8, 10, 6, 8, 8, 9, 9, 8, 5, 6, 7, 9, 8, 9, 5, 6, 6, 7, 8, 5, 8, 8, 7, 9, 10, 7, 9, 7, 10, 6, 9, 5, 8, 9, 10, 7, 9, 7, 7, 5, 10, 10, 10, 8, 5, 8, 9, 10, 7, 5, 9, 5, 6, 10, 7, 6, 6, 6, 9, 6, 5, 7, 7, 6, 9, 6, 8, 9, 5, 6, 7, 8, 3, 10, 9, 8, 9, 8, 8, 9, 8, 7, 5, 7, 10, 9, 7, 10, 8, 8, 10, 5, 7, 9, 8, 7, 6, 7, 7, 6, 10, 10, 9, 6, 8, 6, 7, 8, 11, 7, 8, 7, 5, 10, 6, 7, 8, 7, 9, 9, 8, 6, 8, 9, 9, 8, 7, 6, 8, 8, 10, 6, 4, 8, 10, 7, 7, 9, 8, 9, 9, 5, 7, 6, 10, 9, 7, 8, 7, 8, 6, 5, 5, 4, 9, 6, 9, 5, 8, 9, 9, 9, 9, 9, 9, 7, 8, 7, 6, 7, 8, 9, 10, 7, 10, 5, 10, 11, 10, 8, 10, 8, 3, 5, 6, 6, 7, 6, 7, 8, 10, 7, 6, 6, 9, 7, 5, 5, 7, 5, 6, 8, 6, 9, 9, 4, 6, 5, 6, 4, 9, 7, 6, 6, 7, 9, 8, 8, 7, 8, 8, 10, 8, 8, 8, 4, 8, 11, 6, 10, 5, 8, 7, 9, 9, 6, 8, 8, 11, 10, 6, 7, 11, 8, 8, 8, 9, 9, 8, 7, 8, 7, 9, 8, 8, 9, 10, 6, 13, 8, 4, 5, 6, 7, 6, 8, 9, 3, 9, 2, 8, 8, 7, 6, 6, 7, 9, 7, 5, 8, 4, 9, 6, 7, 7, 8, 8, 8, 9, 9, 6, 8, 8, 9, 8, 7, 9, 7, 8, 8, 3, 7, 9, 4, 9, 11, 5, 8, 9, 6, 10, 8, 7, 3, 6, 8, 6, 6, 7, 8, 6, 6, 6, 9, 8, 7, 7, 9, 10, 10, 8, 7, 10, 6, 5, 9, 8, 7, 7, 6, 8, 7, 4, 10, 9, 11, 9, 8, 7, 3, 7, 7, 7, 7, 6, 10, 3, 9, 10, 9, 8, 5, 7, 9, 8, 4, 7, 7, 6, 7, 10, 7, 9, 10, 6, 5, 6, 7, 10, 5, 9, 11, 10, 6, 6, 7, 5, 10, 10, 3, 9, 7, 8, 9, 9, 7, 7, 6, 7, 5, 9, 6, 9, 6, 8, 10, 9, 10, 6, 7, 10, 8, 8, 8, 9, 9, 7, 7, 7, 8, 8, 6, 8, 8, 6, 6, 8, 8, 7, 6, 7, 9, 8, 8, 5, 8, 8, 9, 7, 10, 5, 9, 5, 10, 7, 9, 10, 9, 8, 8, 7, 7, 6, 10, 7, 10, 9, 10, 7, 10, 4, 5, 11, 5, 7, 8, 9, 7, 8, 5, 8, 8, 8, 6, 8, 8, 6, 6, 10, 7, 8, 8, 9, 4, 4, 7, 10, 6, 10, 4, 10, 6, 10, 8, 7, 7, 10, 7, 9, 10, 11, 11, 9, 7, 5, 8, 7, 7, 10, 12, 6, 10, 7, 8, 8, 7, 10, 7, 6]\n"
     ]
    }
   ],
   "source": [
    "def train(dataloader, model):\n",
    "    epoch_start_time = time.time()\n",
    "    total_acc, total_count = 0, 0\n",
    "    \n",
    "    for X, y in dataloader:\n",
    "        optimizer.zero_grad()\n",
    "        predicted_label = model(X)\n",
    "        loss = loss_fn(predicted_label, y)\n",
    "        loss.backward()\n",
    "        optimizer.step()\n",
    "                \n",
    "        total_acc   += (predicted_label.argmax(1) == y).sum().item()\n",
    "        total_count += y.size(0)\n",
    "\n",
    "    print(f'| epoch {epoch:3d} | train accuracy {total_acc/total_count:8.3f} | time: {time.time() - epoch_start_time:5.2f}s')\n",
    "\n",
    "def accuracy(dataloader, model):\n",
    "\n",
    "    total_acc, total_count = 0, 0\n",
    "    predictions = []\n",
    "    labels = []\n",
    "\n",
    "    with torch.no_grad():\n",
    "        for X, y in dataloader:\n",
    "            predicted_label = model(X)\n",
    "            predictions.extend(predicted_label.argmax(1).tolist())\n",
    "            labels.extend(y.tolist())\n",
    "            total_acc += (predicted_label.argmax(1) == y).sum().item()\n",
    "            total_count += y.size(0)\n",
    "            \n",
    "    # predictions = [x + 2 for x in predictions]\n",
    "    # labels = [x + 2 for x in labels]\n",
    "    return total_acc/total_count, predictions, labels\n",
    "\n",
    "model = Model(vocab_size, embedding_dim, max_len, num_class).to(device)\n",
    "optimizer = torch.optim.Adam(model.parameters(), lr=.001)\n",
    "loss_fn = torch.nn.CrossEntropyLoss()\n",
    "\n",
    "EPOCHS = 20\n",
    "for epoch in range(1, EPOCHS + 1):\n",
    "    train(train_loader, model)\n",
    "\n",
    "val_acc, predictions, labels = accuracy(val_loader, model)\n",
    "print(f'validation accuracy: {val_acc:.3f}')\n",
    "print(predictions)\n",
    "print(labels)"
   ]
  },
  {
   "cell_type": "code",
   "execution_count": 156,
   "id": "7e43f859",
   "metadata": {},
   "outputs": [],
   "source": [
    "def scores(predictions, labels):\n",
    "    preds = np.array(predictions)\n",
    "    labels = np.array(labels)\n",
    "\n",
    "    average_distance = np.mean(np.abs(preds - labels))\n",
    "\n",
    "    max_label_distance = labels.max() - labels.min()\n",
    "    abs_diff = np.abs(preds - labels)\n",
    "    proximity_scores = 1 - (abs_diff / max_label_distance)\n",
    "    average_proximity_score = np.mean(proximity_scores)\n",
    "\n",
    "    return average_distance, average_proximity_score\n"
   ]
  },
  {
   "cell_type": "code",
   "execution_count": 180,
   "id": "70687872",
   "metadata": {},
   "outputs": [
    {
     "name": "stdout",
     "output_type": "stream",
     "text": [
      "Average distance from correct label: 1.712\n",
      "Average proximity score: 0.844\n",
      "Baseline average distance from correct label: 1.410\n",
      "Baseline average proximity score: 0.872\n"
     ]
    }
   ],
   "source": [
    "mae, proximity = scores(predictions, labels)\n",
    "baseline_predictions = np.array([np.mean(labels)] * len(labels))\n",
    "baseline_mae, baseline_proximity = scores(baseline_predictions, labels)\n",
    "\n",
    "print(f\"Average distance from correct label: {mae:.3f}\")\n",
    "print(f\"Average proximity score: {proximity:.3f}\")\n",
    "print(f\"Baseline average distance from correct label: {baseline_mae:.3f}\")\n",
    "print(f\"Baseline average proximity score: {baseline_proximity:.3f}\")"
   ]
  },
  {
   "cell_type": "code",
   "execution_count": 103,
   "id": "929f2fb7",
   "metadata": {},
   "outputs": [
    {
     "data": {
      "application/vnd.plotly.v1+json": {
       "config": {
        "plotlyServerURL": "https://plot.ly"
       },
       "data": [
        {
         "alignmentgroup": "True",
         "bingroup": "x",
         "hovertemplate": "type=Prediction<br>value=%{x}<br>count=%{y}<extra></extra>",
         "legendgroup": "Prediction",
         "marker": {
          "color": "#636efa",
          "pattern": {
           "shape": ""
          }
         },
         "name": "Prediction",
         "offsetgroup": "Prediction",
         "orientation": "v",
         "showlegend": true,
         "type": "histogram",
         "x": {
          "bdata": "BgYGBAYFBgUGBgYEBQQGBgYFBwYEBAYGBAUGBgcFBgUFBgYHBAYHBwYFBgcFBwUGBQYHBwUGBgcGBgYHBgQFBQUFBQYGBwUFBgQICAUFBAYGBwcEBgYGBgcGBAYFBgcGBQUGBgUFBgYEBgYFBgYGBQYFBgUEBgYHBgYGBgcGBgUEBwUEBgYFBwQGBwUFBgQFBQUFBQYFBgQGBwUGBgYGBgYFBwYEBwYGBQcHBQYGBgcGBgYEBQYGBgYEBgYHBQYFBgYGBgcGBAYHBAYHBQUFBggFBQUGBgYFBggFBQUGBQUFBwYFBQUFBAUHBQcGBgYGBgYFBgUEBQYHBgcGBQYFBQUGBgYFBAUHBgUEBgcHBwYEBQQHBgYEBQcFBQcGBgcFBQYGBgQHBQcFBAYGBgUFBQUFBgYFBwgGBAYGBQYFBgYGBAcGBQUGBQcFBgYGBwcHBQUHBwcFCAYGBQYFBgQGBgUFBgYGBgcFBgUGBgUFBQYGBgUHBAYFBgcHBAYHBQcEBQcGBQYFBwUFBgYGBgYFBwUHBQYHBgcGBgYGBQYGBgYGBAYGBwUGBgUFBgUGBQYFBQcHBwUFCAcHBgQGBgYGBgYHBgYGBQQGBgUGBgYEBgUHBgUGBAcFBgUEBgUGBQYGBgYGBgUGBgUEBQUFCAUGBgUFBwYFBgUEBgYFBgYFBQcFBwQHBwYGBgYGBwUFBAcGBQUGBwUFBQUFBQUECAUGBQUGBgUGBgcFBgUFBgUGBwYGBAcEBQYHBwYFBgYHBwYEBQQFBQUGBQYGBQYFBQUGBQUEBgUGBgYFBwUGBAUFBwYGBwcFBAYGBQQGBgYGBQUFBwcFBQUGBAUFBwYFBgQFBwUGBgcGBwUHBQYFBQYFBgYGBQYHBgcGBAcFBAQHBgYHBQYEBQYFBQQGBwYFBgUFBwcHBgYGBwYFBwUFBgcGBQYFBAUGBwYHBQUFBgUGBgUGBQYGBgUHBQYFBgYGBwUFBwYHBwUGBQYEBQYHBQYHBQYGBwUFBgYFBgUHBQQFBgYEBgUHBgYHBgYGBQYGBgYHBwUFBQYHBgUEBQYGBwcGBgQFBQUHBgYGBAYGBAUFBgcHBAYGBwYGBAcGBgYEBAYFBggGBgYGBgYHBgYHBQUFBgUEBgYGBQYHBgcGBwQFBwcGBQYGBgUHBAYEBgYHBgUGBAYGBwYGBwUGBQcGBgQFBAUHBQUGBQcEBQYEBgUEBgYGBgYFBQQGBgUGBQcGCAQGBgYFBQYGBgYFBgYGBwcGBgYFBgcFBgUGBQYHBQYEBwUHBQYFBgUGBAUFBQYGBgUFBQcFBgUHBQYGBgcFBgcHBgYGBQYFBgcFBgYFBgYFBgQEBgUGBwYGBQYEBQcEBwUGBwcGBQYGBQYGBgYFBgUGBwQHBgUFBQYGBQYGBwUGBgUHBQcHBgUGBQYGBwYGBgYFBgUHBgYHBgYGBAUGBgUGBQYGBwUGBgUFBgYGBQYGBgcFBQYFBgYHBAYFBQcGBgUGBgYFBwYHBQYFBwUEBgcFBwUEBAUHBgYIBgYGBwUGBgcGBgYHBQUHBAYGBwUGBgYGBQYHBwUFBgUGBAUFBgYGBgcGBwcGBwYFBwYEBgYGBQYFBgYFBgYGBwYGBgYGBgU=",
          "dtype": "i1"
         },
         "xaxis": "x",
         "yaxis": "y"
        },
        {
         "alignmentgroup": "True",
         "bingroup": "x",
         "hovertemplate": "type=Actual<br>value=%{x}<br>count=%{y}<extra></extra>",
         "legendgroup": "Actual",
         "marker": {
          "color": "#EF553B",
          "pattern": {
           "shape": ""
          }
         },
         "name": "Actual",
         "offsetgroup": "Actual",
         "orientation": "v",
         "showlegend": true,
         "type": "histogram",
         "x": {
          "bdata": "BwcGBgYHBwUHBQYGBgcGBgcFBwcGBgUHBgUFBwUGBwYGBQYHBQUGBgUGBggGBwYHBQYGBwQFBwcGBwYIBwUGBgYGBgcFBgQGBgUHBwcFBQcHBwYFBwUFBgYHBQUGBwcGBwYGBgcFBgYGBQQGBwQEBwUGBwUFCAcHBQcGBQcHBgUFBwUEBwUGBgYHBwUFCAYHBQUFBgYHBgYEBgYHBgUHBgcHCAcEBwYHBwgGBQUHBwcGBwYGBgcGBQYGBgcGBQUFBgYGBgYFBgYGBQYHBQYGBgcDBgYGBQcFBgcGBAYHBgYGBgYGBQYEBQUHBgUGBgUGBgYHBgYGBgcGBQYGBgcHBgYHBgYFBgUGBwUGBgcHBwUFBgYGBQYFBQcGBgYHBwYHBQUHBgcHBgUFBQcGBgYFBgcFBQUGBgcGBgYGBQYHBwUHBQcGBgUGBgcEBgUHBggFBgcHBwYFBQcHBgcGBQUFBgUGBgYFBQcFBwYHBwYFBQYGBwUHBgcGBQcHBQYHBgcGBgYFBwYHBwYGBQYGBgUFBwcHBwYHBgcHBQcGBQYGBwUFBQUGBwcFBgYGBwYHBQUGBgYHBwUFBwgGBgYFBwUGBgcHBgcGBwYGBQUHBwYGBQYGCAUHBgcGBgcGBgUHBgYGBgYHBwUGBQcGBQcFBggHBQYGBwYGBQcFBgcFBgYGBQgGBwYHBwYHBgcGBgUHBQcGBQUFBwYGBgYGBgUEBwUGBQYGBgUGBQYGBQYHBgUHBwcFBwYHBQYHBgYFBwQIBgcFBgUFBQYGBwUHBwcGBQQGBQYEBQUGBggFBgUHBAQFBwcGBwcGBgcHBgYHBgUGBgYGBgYHBgYHBQcGBwYGBAYGBwYFBwYHBwUGBgcEBQcFBwcGBgcIBQcHBgYHBgUHBAcHBQYFBQYEBgQGBgYEBwYFBgcGBQYIBwYGBwUGBgcHBgUFBgcGBwUFBQYGBQYGBgcHBgcGBwUHBQYHBwYHBgYFBwcHBgUGBwcGBQcFBQcGBQUFBwUFBgYFBwUGBwUFBgYEBwcGBwYGBwYGBQYHBwYHBgYHBQYHBgYFBgYFBwcHBQYFBgYIBgYGBQcFBgYGBwcGBQYHBwYGBQYGBwUEBgcGBgcGBwcFBgUHBwYGBgYFBQUEBwUHBQYHBwcHBwcGBgYFBgYHBwYHBQcIBwYHBgQFBQUGBQYGBwYFBQcGBQUGBQUGBQcHBAUFBQQHBgUFBgcGBgYGBgcGBgYEBggFBwUGBgcHBQYGCAcFBggGBgYHBwYGBgYHBgYHBwUJBgQFBQYFBgcEBwMGBgYFBQYHBgUGBAcFBgYGBgYHBwUGBgcGBgcGBgYEBgcEBwgFBgcFBwYGBAUGBQUGBgUFBQcGBgYHBwcGBgcFBQcGBgYFBgYEBwcIBwYGBAYGBgYFBwQHBwcGBQYHBgQGBgUGBwYHBwUFBQYHBQcIBwUFBgUHBwQHBgYHBwYGBQYFBwUHBQYHBwcFBgcGBgYHBwYGBgYGBQYGBQUGBgYFBgcGBgUGBgcGBwUHBQcGBwcHBgYGBgUHBgcHBwYHBAUIBQYGBwYGBQYGBgUGBgUFBwYGBgcEBAYHBQcEBwUHBgYGBwYHBwgIBwYFBgYGBwgFBwYGBgYHBgU=",
          "dtype": "i1"
         },
         "xaxis": "x",
         "yaxis": "y"
        }
       ],
       "layout": {
        "barmode": "group",
        "legend": {
         "title": {
          "text": "type"
         },
         "tracegroupgap": 0
        },
        "template": {
         "data": {
          "bar": [
           {
            "error_x": {
             "color": "#2a3f5f"
            },
            "error_y": {
             "color": "#2a3f5f"
            },
            "marker": {
             "line": {
              "color": "white",
              "width": 0.5
             },
             "pattern": {
              "fillmode": "overlay",
              "size": 10,
              "solidity": 0.2
             }
            },
            "type": "bar"
           }
          ],
          "barpolar": [
           {
            "marker": {
             "line": {
              "color": "white",
              "width": 0.5
             },
             "pattern": {
              "fillmode": "overlay",
              "size": 10,
              "solidity": 0.2
             }
            },
            "type": "barpolar"
           }
          ],
          "carpet": [
           {
            "aaxis": {
             "endlinecolor": "#2a3f5f",
             "gridcolor": "#C8D4E3",
             "linecolor": "#C8D4E3",
             "minorgridcolor": "#C8D4E3",
             "startlinecolor": "#2a3f5f"
            },
            "baxis": {
             "endlinecolor": "#2a3f5f",
             "gridcolor": "#C8D4E3",
             "linecolor": "#C8D4E3",
             "minorgridcolor": "#C8D4E3",
             "startlinecolor": "#2a3f5f"
            },
            "type": "carpet"
           }
          ],
          "choropleth": [
           {
            "colorbar": {
             "outlinewidth": 0,
             "ticks": ""
            },
            "type": "choropleth"
           }
          ],
          "contour": [
           {
            "colorbar": {
             "outlinewidth": 0,
             "ticks": ""
            },
            "colorscale": [
             [
              0,
              "#0d0887"
             ],
             [
              0.1111111111111111,
              "#46039f"
             ],
             [
              0.2222222222222222,
              "#7201a8"
             ],
             [
              0.3333333333333333,
              "#9c179e"
             ],
             [
              0.4444444444444444,
              "#bd3786"
             ],
             [
              0.5555555555555556,
              "#d8576b"
             ],
             [
              0.6666666666666666,
              "#ed7953"
             ],
             [
              0.7777777777777778,
              "#fb9f3a"
             ],
             [
              0.8888888888888888,
              "#fdca26"
             ],
             [
              1,
              "#f0f921"
             ]
            ],
            "type": "contour"
           }
          ],
          "contourcarpet": [
           {
            "colorbar": {
             "outlinewidth": 0,
             "ticks": ""
            },
            "type": "contourcarpet"
           }
          ],
          "heatmap": [
           {
            "colorbar": {
             "outlinewidth": 0,
             "ticks": ""
            },
            "colorscale": [
             [
              0,
              "#0d0887"
             ],
             [
              0.1111111111111111,
              "#46039f"
             ],
             [
              0.2222222222222222,
              "#7201a8"
             ],
             [
              0.3333333333333333,
              "#9c179e"
             ],
             [
              0.4444444444444444,
              "#bd3786"
             ],
             [
              0.5555555555555556,
              "#d8576b"
             ],
             [
              0.6666666666666666,
              "#ed7953"
             ],
             [
              0.7777777777777778,
              "#fb9f3a"
             ],
             [
              0.8888888888888888,
              "#fdca26"
             ],
             [
              1,
              "#f0f921"
             ]
            ],
            "type": "heatmap"
           }
          ],
          "histogram": [
           {
            "marker": {
             "pattern": {
              "fillmode": "overlay",
              "size": 10,
              "solidity": 0.2
             }
            },
            "type": "histogram"
           }
          ],
          "histogram2d": [
           {
            "colorbar": {
             "outlinewidth": 0,
             "ticks": ""
            },
            "colorscale": [
             [
              0,
              "#0d0887"
             ],
             [
              0.1111111111111111,
              "#46039f"
             ],
             [
              0.2222222222222222,
              "#7201a8"
             ],
             [
              0.3333333333333333,
              "#9c179e"
             ],
             [
              0.4444444444444444,
              "#bd3786"
             ],
             [
              0.5555555555555556,
              "#d8576b"
             ],
             [
              0.6666666666666666,
              "#ed7953"
             ],
             [
              0.7777777777777778,
              "#fb9f3a"
             ],
             [
              0.8888888888888888,
              "#fdca26"
             ],
             [
              1,
              "#f0f921"
             ]
            ],
            "type": "histogram2d"
           }
          ],
          "histogram2dcontour": [
           {
            "colorbar": {
             "outlinewidth": 0,
             "ticks": ""
            },
            "colorscale": [
             [
              0,
              "#0d0887"
             ],
             [
              0.1111111111111111,
              "#46039f"
             ],
             [
              0.2222222222222222,
              "#7201a8"
             ],
             [
              0.3333333333333333,
              "#9c179e"
             ],
             [
              0.4444444444444444,
              "#bd3786"
             ],
             [
              0.5555555555555556,
              "#d8576b"
             ],
             [
              0.6666666666666666,
              "#ed7953"
             ],
             [
              0.7777777777777778,
              "#fb9f3a"
             ],
             [
              0.8888888888888888,
              "#fdca26"
             ],
             [
              1,
              "#f0f921"
             ]
            ],
            "type": "histogram2dcontour"
           }
          ],
          "mesh3d": [
           {
            "colorbar": {
             "outlinewidth": 0,
             "ticks": ""
            },
            "type": "mesh3d"
           }
          ],
          "parcoords": [
           {
            "line": {
             "colorbar": {
              "outlinewidth": 0,
              "ticks": ""
             }
            },
            "type": "parcoords"
           }
          ],
          "pie": [
           {
            "automargin": true,
            "type": "pie"
           }
          ],
          "scatter": [
           {
            "fillpattern": {
             "fillmode": "overlay",
             "size": 10,
             "solidity": 0.2
            },
            "type": "scatter"
           }
          ],
          "scatter3d": [
           {
            "line": {
             "colorbar": {
              "outlinewidth": 0,
              "ticks": ""
             }
            },
            "marker": {
             "colorbar": {
              "outlinewidth": 0,
              "ticks": ""
             }
            },
            "type": "scatter3d"
           }
          ],
          "scattercarpet": [
           {
            "marker": {
             "colorbar": {
              "outlinewidth": 0,
              "ticks": ""
             }
            },
            "type": "scattercarpet"
           }
          ],
          "scattergeo": [
           {
            "marker": {
             "colorbar": {
              "outlinewidth": 0,
              "ticks": ""
             }
            },
            "type": "scattergeo"
           }
          ],
          "scattergl": [
           {
            "marker": {
             "colorbar": {
              "outlinewidth": 0,
              "ticks": ""
             }
            },
            "type": "scattergl"
           }
          ],
          "scattermap": [
           {
            "marker": {
             "colorbar": {
              "outlinewidth": 0,
              "ticks": ""
             }
            },
            "type": "scattermap"
           }
          ],
          "scattermapbox": [
           {
            "marker": {
             "colorbar": {
              "outlinewidth": 0,
              "ticks": ""
             }
            },
            "type": "scattermapbox"
           }
          ],
          "scatterpolar": [
           {
            "marker": {
             "colorbar": {
              "outlinewidth": 0,
              "ticks": ""
             }
            },
            "type": "scatterpolar"
           }
          ],
          "scatterpolargl": [
           {
            "marker": {
             "colorbar": {
              "outlinewidth": 0,
              "ticks": ""
             }
            },
            "type": "scatterpolargl"
           }
          ],
          "scatterternary": [
           {
            "marker": {
             "colorbar": {
              "outlinewidth": 0,
              "ticks": ""
             }
            },
            "type": "scatterternary"
           }
          ],
          "surface": [
           {
            "colorbar": {
             "outlinewidth": 0,
             "ticks": ""
            },
            "colorscale": [
             [
              0,
              "#0d0887"
             ],
             [
              0.1111111111111111,
              "#46039f"
             ],
             [
              0.2222222222222222,
              "#7201a8"
             ],
             [
              0.3333333333333333,
              "#9c179e"
             ],
             [
              0.4444444444444444,
              "#bd3786"
             ],
             [
              0.5555555555555556,
              "#d8576b"
             ],
             [
              0.6666666666666666,
              "#ed7953"
             ],
             [
              0.7777777777777778,
              "#fb9f3a"
             ],
             [
              0.8888888888888888,
              "#fdca26"
             ],
             [
              1,
              "#f0f921"
             ]
            ],
            "type": "surface"
           }
          ],
          "table": [
           {
            "cells": {
             "fill": {
              "color": "#EBF0F8"
             },
             "line": {
              "color": "white"
             }
            },
            "header": {
             "fill": {
              "color": "#C8D4E3"
             },
             "line": {
              "color": "white"
             }
            },
            "type": "table"
           }
          ]
         },
         "layout": {
          "annotationdefaults": {
           "arrowcolor": "#2a3f5f",
           "arrowhead": 0,
           "arrowwidth": 1
          },
          "autotypenumbers": "strict",
          "coloraxis": {
           "colorbar": {
            "outlinewidth": 0,
            "ticks": ""
           }
          },
          "colorscale": {
           "diverging": [
            [
             0,
             "#8e0152"
            ],
            [
             0.1,
             "#c51b7d"
            ],
            [
             0.2,
             "#de77ae"
            ],
            [
             0.3,
             "#f1b6da"
            ],
            [
             0.4,
             "#fde0ef"
            ],
            [
             0.5,
             "#f7f7f7"
            ],
            [
             0.6,
             "#e6f5d0"
            ],
            [
             0.7,
             "#b8e186"
            ],
            [
             0.8,
             "#7fbc41"
            ],
            [
             0.9,
             "#4d9221"
            ],
            [
             1,
             "#276419"
            ]
           ],
           "sequential": [
            [
             0,
             "#0d0887"
            ],
            [
             0.1111111111111111,
             "#46039f"
            ],
            [
             0.2222222222222222,
             "#7201a8"
            ],
            [
             0.3333333333333333,
             "#9c179e"
            ],
            [
             0.4444444444444444,
             "#bd3786"
            ],
            [
             0.5555555555555556,
             "#d8576b"
            ],
            [
             0.6666666666666666,
             "#ed7953"
            ],
            [
             0.7777777777777778,
             "#fb9f3a"
            ],
            [
             0.8888888888888888,
             "#fdca26"
            ],
            [
             1,
             "#f0f921"
            ]
           ],
           "sequentialminus": [
            [
             0,
             "#0d0887"
            ],
            [
             0.1111111111111111,
             "#46039f"
            ],
            [
             0.2222222222222222,
             "#7201a8"
            ],
            [
             0.3333333333333333,
             "#9c179e"
            ],
            [
             0.4444444444444444,
             "#bd3786"
            ],
            [
             0.5555555555555556,
             "#d8576b"
            ],
            [
             0.6666666666666666,
             "#ed7953"
            ],
            [
             0.7777777777777778,
             "#fb9f3a"
            ],
            [
             0.8888888888888888,
             "#fdca26"
            ],
            [
             1,
             "#f0f921"
            ]
           ]
          },
          "colorway": [
           "#636efa",
           "#EF553B",
           "#00cc96",
           "#ab63fa",
           "#FFA15A",
           "#19d3f3",
           "#FF6692",
           "#B6E880",
           "#FF97FF",
           "#FECB52"
          ],
          "font": {
           "color": "#2a3f5f"
          },
          "geo": {
           "bgcolor": "white",
           "lakecolor": "white",
           "landcolor": "white",
           "showlakes": true,
           "showland": true,
           "subunitcolor": "#C8D4E3"
          },
          "hoverlabel": {
           "align": "left"
          },
          "hovermode": "closest",
          "mapbox": {
           "style": "light"
          },
          "paper_bgcolor": "white",
          "plot_bgcolor": "white",
          "polar": {
           "angularaxis": {
            "gridcolor": "#EBF0F8",
            "linecolor": "#EBF0F8",
            "ticks": ""
           },
           "bgcolor": "white",
           "radialaxis": {
            "gridcolor": "#EBF0F8",
            "linecolor": "#EBF0F8",
            "ticks": ""
           }
          },
          "scene": {
           "xaxis": {
            "backgroundcolor": "white",
            "gridcolor": "#DFE8F3",
            "gridwidth": 2,
            "linecolor": "#EBF0F8",
            "showbackground": true,
            "ticks": "",
            "zerolinecolor": "#EBF0F8"
           },
           "yaxis": {
            "backgroundcolor": "white",
            "gridcolor": "#DFE8F3",
            "gridwidth": 2,
            "linecolor": "#EBF0F8",
            "showbackground": true,
            "ticks": "",
            "zerolinecolor": "#EBF0F8"
           },
           "zaxis": {
            "backgroundcolor": "white",
            "gridcolor": "#DFE8F3",
            "gridwidth": 2,
            "linecolor": "#EBF0F8",
            "showbackground": true,
            "ticks": "",
            "zerolinecolor": "#EBF0F8"
           }
          },
          "shapedefaults": {
           "line": {
            "color": "#2a3f5f"
           }
          },
          "ternary": {
           "aaxis": {
            "gridcolor": "#DFE8F3",
            "linecolor": "#A2B1C6",
            "ticks": ""
           },
           "baxis": {
            "gridcolor": "#DFE8F3",
            "linecolor": "#A2B1C6",
            "ticks": ""
           },
           "bgcolor": "white",
           "caxis": {
            "gridcolor": "#DFE8F3",
            "linecolor": "#A2B1C6",
            "ticks": ""
           }
          },
          "title": {
           "x": 0.05
          },
          "xaxis": {
           "automargin": true,
           "gridcolor": "#EBF0F8",
           "linecolor": "#EBF0F8",
           "ticks": "",
           "title": {
            "standoff": 15
           },
           "zerolinecolor": "#EBF0F8",
           "zerolinewidth": 2
          },
          "yaxis": {
           "automargin": true,
           "gridcolor": "#EBF0F8",
           "linecolor": "#EBF0F8",
           "ticks": "",
           "title": {
            "standoff": 15
           },
           "zerolinecolor": "#EBF0F8",
           "zerolinewidth": 2
          }
         }
        },
        "title": {
         "text": "Predictions vs Actual"
        },
        "xaxis": {
         "anchor": "y",
         "domain": [
          0,
          1
         ],
         "title": {
          "text": "Class"
         }
        },
        "yaxis": {
         "anchor": "x",
         "domain": [
          0,
          1
         ],
         "title": {
          "text": "Count"
         }
        }
       }
      }
     },
     "metadata": {},
     "output_type": "display_data"
    }
   ],
   "source": [
    "# Combine predictions and labels into one DataFrame\n",
    "df = pd.DataFrame({\n",
    "    \"value\": predictions + labels,\n",
    "    \"type\": [\"Prediction\"] * len(predictions) + [\"Actual\"] * len(labels)\n",
    "})\n",
    "\n",
    "# Create grouped histogram\n",
    "fig = px.histogram(df, x=\"value\", color=\"type\", barmode=\"group\",\n",
    "                   title=\"Predictions vs Actual\")\n",
    "fig.update_layout(xaxis_title=\"Class\", yaxis_title=\"Count\")\n",
    "fig.show()\n"
   ]
  },
  {
   "cell_type": "markdown",
   "id": "2fb24aa8",
   "metadata": {},
   "source": [
    "Notes of what I did:\n",
    "Use of crew, cast, genres, and production companies as embeddings\n",
    "Padding the embeddings to the same length\n",
    "Weighting the training data to account for imbalance\n",
    "Proximity score to account for multi-class context"
   ]
  }
 ],
 "metadata": {
  "kernelspec": {
   "display_name": "ml-0451",
   "language": "python",
   "name": "python3"
  },
  "language_info": {
   "codemirror_mode": {
    "name": "ipython",
    "version": 3
   },
   "file_extension": ".py",
   "mimetype": "text/x-python",
   "name": "python",
   "nbconvert_exporter": "python",
   "pygments_lexer": "ipython3",
   "version": "3.9.21"
  }
 },
 "nbformat": 4,
 "nbformat_minor": 5
}
